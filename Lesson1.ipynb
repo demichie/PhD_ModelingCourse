{
  "nbformat": 4,
  "nbformat_minor": 0,
  "metadata": {
    "colab": {
      "provenance": [],
      "authorship_tag": "ABX9TyOADhz20SjeaXOCOJlwHB+8",
      "include_colab_link": true
    },
    "kernelspec": {
      "name": "python3",
      "display_name": "Python 3"
    },
    "language_info": {
      "name": "python"
    }
  },
  "cells": [
    {
      "cell_type": "markdown",
      "metadata": {
        "id": "view-in-github",
        "colab_type": "text"
      },
      "source": [
        "<a href=\"https://colab.research.google.com/github/demichie/PhD_ModelingCourse/blob/main/Lesson1.ipynb\" target=\"_parent\"><img src=\"https://colab.research.google.com/assets/colab-badge.svg\" alt=\"Open In Colab\"/></a>"
      ]
    },
    {
      "cell_type": "markdown",
      "source": [
        "# Introduction to Differential Equations and Numerical Modeling\n",
        "## Lecture 1 -- From Physical Processes to Numerical Solutions\n",
        "**Author:** Mattia de' Michieli Vitturi\n",
        "**Date:** PhD Course in Earth Sciences"
      ],
      "metadata": {
        "id": "uRSxp10sdTpj"
      }
    },
    {
      "cell_type": "markdown",
      "source": [
        "# Motivation and Definitions"
      ],
      "metadata": {
        "id": "H8kKMM74dVX0"
      }
    },
    {
      "cell_type": "markdown",
      "source": [
        "### Why Study Differential Equations?\n",
        "\n",
        "- Many Earth Science phenomena involve time evolution: heat transfer, fluid flow, seismic waves.\n",
        "- These are governed by fundamental conservation laws expressed as differential equations.\n",
        "- Understanding them allows us to predict and simulate natural processes."
      ],
      "metadata": {
        "id": "ZOcXNlS7dwiM"
      }
    },
    {
      "cell_type": "markdown",
      "source": [
        "### The Role of Differential Equations in Earth Sciences\n",
        "\n",
        "- Differential equations describe how quantities evolve in time and/or space.\n",
        "- They arise naturally when expressing fundamental physical laws (e.g., conservation of mass, momentum, and energy).\n",
        "- Almost every geophysical process can be described using ordinary or partial differential equations.\n",
        "- Examples include:\n",
        "  - Cooling of lava flows\n",
        "  - Radioactive decay\n",
        "  - Groundwater flow\n",
        "  - Atmospheric circulation\n",
        "- Analytical solutions exist only for simple cases. Numerical methods are essential."
      ],
      "metadata": {
        "id": "uHCbOx1Vdxpu"
      }
    },
    {
      "cell_type": "markdown",
      "source": [
        "### Cooling in Earth Sciences\n",
        "\n",
        "- **Examples of cooling processes:**\n",
        "  - Lava flow cooling after emplacement.\n",
        "  - Cooling of the Earth’s lithosphere over geological timescales.\n",
        "  - Thermal relaxation of volcanic deposits.\n",
        "- **What do they have in common?**\n",
        "  - Heat is transferred from a hot material to a cooler environment.\n",
        "  - The temperature of the material decreases over time.\n",
        "- To describe this behavior, we need a mathematical model."
      ],
      "metadata": {
        "id": "w2pLScRtd0cH"
      }
    },
    {
      "cell_type": "markdown",
      "source": [
        "### Newton’s Cooling Law – Discrete Formulation\n",
        "\n",
        "- Based on the physical observation that heat loss is proportional to temperature difference.\n",
        "- Let:\n",
        "  - $T(t)$ be the temperature of the body at time $t$.\n",
        "  - $T_a$ be the constant ambient temperature.\n",
        "  - $k > 0$ the cooling coefficient.\n",
        "- Over a small time interval $\\Delta t$, the change in temperature is:\n",
        "  $$\n",
        "    \\Delta T = T(t+\\Delta t) - T(t) = -k\\,(T(t) - T_a)\\, \\Delta t\n",
        "  $$\n",
        "- Rearranged:\n",
        "  $$\n",
        "    \\frac{T(t+\\Delta t) - T(t)}{\\Delta t} = -k\\,(T(t) - T_a)\n",
        "  $$\n",
        "- This is a finite difference expression for the rate of temperature change."
      ],
      "metadata": {
        "id": "rTFzHf2Zd3CQ"
      }
    },
    {
      "cell_type": "markdown",
      "source": [
        "### Newton’s Cooling Law – Differential Formulation\n",
        "\n",
        "- When $\\Delta t \\to 0$, the finite difference becomes a derivative:\n",
        "  $$\n",
        "    \\frac{dT}{dt} = \\lim_{\\Delta t \\to 0} \\frac{T(t+\\Delta t) - T(t)}{\\Delta t}\n",
        "  $$\n",
        "- Taking the limit of the previous equation:\n",
        "  $$\n",
        "    \\frac{dT}{dt} = -k\\,(T(t) - T_a)\n",
        "  $$\n",
        "- This is a first-order linear ordinary differential equation (ODE).\n",
        "- Widely used in Earth sciences to model cooling:\n",
        "  - Lava temperature evolution.\n",
        "  - Permafrost thawing.\n",
        "  - Post-eruption thermal relaxation."
      ],
      "metadata": {
        "id": "fuAwnsTQd5uH"
      }
    },
    {
      "cell_type": "markdown",
      "source": [
        "### From Physical Law to Differential Equation – Newton’s Cooling Law\n",
        "\n",
        "- **Empirical observation (Newton, 1701):**\n",
        "  > “The rate at which an object cools is proportional to the difference in temperature with its surroundings.”\n",
        "- **Discrete formulation:**\n",
        "  $$\n",
        "    \\Delta T = -k (T - T_a)\\, \\Delta t\n",
        "  $$\n",
        "- **Differential formulation:**\n",
        "  $$\n",
        "    \\frac{dT}{dt} = -k (T - T_a)\n",
        "  $$\n",
        "- This first-order ODE is widely used to describe thermal processes in Earth sciences.\n",
        "\n",
        "Historical note: Newton introduced this law in his 1701 paper “Scala graduum caloris.”"
      ],
      "metadata": {
        "id": "6BWAyGH9d9Em"
      }
    },
    {
      "cell_type": "markdown",
      "source": [
        "### Ordinary Differential Equations (ODEs)\n",
        "\n",
        "- An **Ordinary Differential Equation** (ODE) involves one or more derivatives with respect to a **single independent variable**, usually time ($t$).\n",
        "  $$\n",
        "    \\frac{dT}{dt} = -k(T - T_a)\n",
        "  $$\n",
        "- The unknown is a function of $t$ only (e.g., temperature, concentration, velocity...).\n",
        "- ODEs are widely used in Earth Sciences to model:\n",
        "  - Radioactive decay.\n",
        "  - Cooling/heating of materials.\n",
        "  - Chemical reaction kinetics.\n",
        "  - Mass transfer in simple systems.\n",
        "- We will focus first on ODEs and how to solve them numerically."
      ],
      "metadata": {
        "id": "KjumK2NId_F4"
      }
    },
    {
      "cell_type": "markdown",
      "source": [
        "### ODEs vs PDEs\n",
        "\n",
        "- **Partial Differential Equations (PDEs)** involve derivatives with respect to **multiple independent variables**, e.g. time and space.\n",
        "  $$\n",
        "    \\frac{\\partial T}{\\partial t} = \\kappa \\frac{\\partial^2 T}{\\partial x^2}\n",
        "  $$\n",
        "- Example: the heat equation in a 1D rock layer ($T = T(x, t)$).\n",
        "- PDEs are essential to describe:\n",
        "  - Heat diffusion in the Earth's crust.\n",
        "  - Groundwater flow.\n",
        "  - Deformation of rocks under stress.\n",
        "  - Atmospheric or oceanic dynamics.\n",
        "- In this course, we start with ODEs and later introduce some examples of PDEs, discussing how and why their numerical treatment differs."
      ],
      "metadata": {
        "id": "F9EDFpY1eBOc"
      }
    },
    {
      "cell_type": "markdown",
      "source": [
        "### Radioactive Decay in Earth Sciences\n",
        "\n",
        "- Radioactive isotopes are used for **radiometric dating** of rocks and minerals.\n",
        "- Examples:\n",
        "  - $^{238}\\text{U} \\rightarrow ^{206}\\text{Pb}$ (half-life $\\approx$ 4.5 billion years)\n",
        "  - $^{14}\\text{C} \\rightarrow ^{14}\\text{N}$ (half-life $\\approx$ 5730 years)\n",
        "- The amount of the radioactive parent isotope decreases over time.\n",
        "- We want to model the evolution of the quantity $N(t)$ = number of atoms at time $t$."
      ],
      "metadata": {
        "id": "S5xwmYW0eDIO"
      }
    },
    {
      "cell_type": "markdown",
      "source": [
        "### From Discrete Steps to Continuous Model\n",
        "\n",
        "- Let $N_k$ be the number of atoms at time $t_k = k \\Delta t$.\n",
        "\n",
        "- Assume a constant fraction $\\alpha$ of atoms decays in each time step:\n",
        "  $$\n",
        "    N_{k+1} = N_k - \\alpha N_k = (1 - \\alpha) N_k\n",
        "  $$\n",
        "\n",
        "- Recursive expression:\n",
        "  $$\n",
        "    N_{k} = (1 - \\alpha)^k N_0\n",
        "  $$\n",
        "\n",
        "- Taking the limit as $\\Delta t \\to 0$ and defining $\\lambda = \\lim_{\\Delta t \\to 0} \\frac{\\alpha}{\\Delta t}$:\n",
        "  $$\n",
        "    \\frac{dN}{dt} = -\\lambda N(t)\n",
        "  $$"
      ],
      "metadata": {
        "id": "2ZuLrU_meD3V"
      }
    },
    {
      "cell_type": "markdown",
      "source": [
        "### The Differential Equation of Radioactive Decay\n",
        "\n",
        "- We have derived the ODE:\n",
        "  $$\n",
        "    \\frac{dN}{dt} = -\\lambda N(t)\n",
        "  $$\n",
        "- Notation:\n",
        "  - $N(t)$: number of atoms (or concentration) at time $t$.\n",
        "  - $t$: time (independent variable).\n",
        "  - $\\lambda$: decay constant, specific to the isotope.\n",
        "- This is a first-order linear ODE with known analytical solution:\n",
        "  $$\n",
        "    N(t) = N_0 e^{-\\lambda t}\n",
        "  $$\n",
        "- This model is the foundation of many dating techniques in geochronology."
      ],
      "metadata": {
        "id": "GhFUNQW7eFvh"
      }
    },
    {
      "cell_type": "markdown",
      "source": [
        "### Why Python?\n",
        "\n",
        "- **Python** is a modern, open-source programming language.\n",
        "- Widely used in science and engineering:\n",
        "  - Simple and readable syntax.\n",
        "  - Powerful libraries for scientific computing.\n",
        "  - Strong community and many online resources.\n",
        "- In Earth Sciences, Python is used for:\n",
        "  - Data analysis (e.g., satellite or geochemical data)\n",
        "  - Numerical modeling (e.g., climate, volcanology, geodynamics)\n",
        "  - Visualization (e.g., topography, maps, time series)"
      ],
      "metadata": {
        "id": "b7jsbYlOeH4X"
      }
    },
    {
      "cell_type": "markdown",
      "source": [
        "### Jupyter Notebooks\n",
        "\n",
        "- We will use **Jupyter Notebooks** to run Python code interactively.\n",
        "- A notebook is a web-based interface combining:\n",
        "  - Code execution\n",
        "  - Documentation (markdown)\n",
        "  - Visualizations (plots, maps)\n",
        "- Ideal for scientific workflows:\n",
        "  - Step-by-step exploration\n",
        "  - Documentation of the analysis\n",
        "  - Reproducibility and sharing\n",
        "- You can run notebooks locally or online (e.g., via Google Colab or VS Code)."
      ],
      "metadata": {
        "id": "-9UNBKUWeJsA"
      }
    },
    {
      "cell_type": "markdown",
      "source": [
        "### Python Syntax Basics\n",
        "\n",
        "- Variables and assignment:"
      ],
      "metadata": {
        "id": "UhA_Ny2SeMIW"
      }
    },
    {
      "cell_type": "code",
      "source": [
        "x = 3.0       # float\n",
        "name = \"rock\" # string\n",
        "is_hot = True # boolean"
      ],
      "metadata": {
        "id": "KYU9hQJleRuE"
      },
      "execution_count": null,
      "outputs": []
    },
    {
      "cell_type": "markdown",
      "source": [
        "- Indentation defines code blocks (e.g., loops, functions):\n",
        "\n",
        "  **Example:**"
      ],
      "metadata": {
        "id": "IX-PIrhZeSrh"
      }
    },
    {
      "cell_type": "code",
      "source": [
        "for i in range(5):\n",
        "    print(i)"
      ],
      "metadata": {
        "id": "Aak-eCsmeVVU"
      },
      "execution_count": null,
      "outputs": []
    },
    {
      "cell_type": "markdown",
      "source": [
        "- Comments start with `#`, and help explain your code."
      ],
      "metadata": {
        "id": "suKV2L3WeYB0"
      }
    },
    {
      "cell_type": "markdown",
      "source": [
        "### Python Syntax Basics: Getting Started\n",
        "\n",
        "Python is known for its readability and simple syntax. Let's cover some fundamental concepts.\n",
        "\n",
        "#### Variables and Assignment\n",
        "\n",
        "In Python, you create a variable by assigning a value to it using the equals sign `=`. Python is dynamically typed, meaning you don't need to declare the variable type explicitly."
      ],
      "metadata": {
        "id": "khsIwd99q-98"
      }
    },
    {
      "cell_type": "code",
      "source": [
        "# Assigning different types of data to variables\n",
        "an_integer = 42\n",
        "a_float = 3.14159\n",
        "a_string = \"Hello, Geoscientists!\"\n",
        "a_boolean = True # Note the capital 'T'\n",
        "\n",
        "# You can print them to see their values\n",
        "print(an_integer)\n",
        "print(a_float)\n",
        "print(a_string)\n",
        "print(a_boolean)\n",
        "\n",
        "# Variables can be reassigned\n",
        "x = 10\n",
        "print(\"x is initially:\", x)\n",
        "x = \"Now I'm a string!\"\n",
        "print(\"x is now:\", x)"
      ],
      "metadata": {
        "id": "BAmy4ooVrCVp"
      },
      "execution_count": null,
      "outputs": []
    },
    {
      "cell_type": "markdown",
      "source": [
        "#### Comments\n",
        "Comments are used to explain code. In Python, a comment starts with a hash symbol `#` and extends to the end of the line."
      ],
      "metadata": {
        "id": "ATpJZmKArFGZ"
      }
    },
    {
      "cell_type": "code",
      "source": [
        "# This is a single-line comment\n",
        "radius = 5 # radius of a circle in meters\n",
        "# Comments can also be on the same line as code\n",
        "\n",
        "# It's good practice to comment non-obvious parts of your code"
      ],
      "metadata": {
        "id": "ggE7xdhTrHZ4"
      },
      "execution_count": null,
      "outputs": []
    },
    {
      "cell_type": "markdown",
      "source": [
        "### Handling Collections of Data\n",
        "\n",
        "In many scientific tasks, we deal with collections of data, not just single values. For example:\n",
        "- A series of temperature measurements over time.\n",
        "- A list of rock sample names.\n",
        "- Coordinates (x, y, z) of multiple seismic events.\n",
        "- Porosity values from different core samples.\n",
        "\n",
        "Storing each value in a separate variable (e.g., `temp1`, `temp2`, `temp3`, ...) would be impractical and inefficient. We need a way to group related data items together."
      ],
      "metadata": {
        "id": "qsji4V_drJqr"
      }
    },
    {
      "cell_type": "markdown",
      "source": [
        "### Introducing Lists in Python\n",
        "\n",
        "Python's **list** is a versatile and commonly used data structure to store an ordered sequence of items.\n",
        "\n",
        "**Syntax:** Lists are created using square brackets `[]`, with items separated by commas.\n",
        "\n",
        "**Characteristics of Python Lists:**\n",
        "- **Ordered:** Items are stored in a specific sequence.\n",
        "- **Mutable:** You can change, add, or remove items after the list is created.\n",
        "- **Can contain mixed data types:** A single list can hold numbers, strings, booleans, and even other lists."
      ],
      "metadata": {
        "id": "FAyiMn0arMcc"
      }
    },
    {
      "cell_type": "code",
      "source": [
        "# Creating a list of temperatures\n",
        "temperatures = [15.5, 16.1, 15.8, 17.0]\n",
        "print(\"Temperatures:\", temperatures)\n",
        "\n",
        "# Creating a list of rock types\n",
        "rock_types = [\"basalt\", \"granite\", \"shale\"]\n",
        "print(\"Rock Types:\", rock_types)\n",
        "\n",
        "# A list can contain mixed data types\n",
        "mixed_data = [10, \"andesite\", 25.3, True]\n",
        "print(\"Mixed Data:\", mixed_data)\n",
        "\n",
        "# An empty list\n",
        "empty_list = []\n",
        "print(\"Empty List:\", empty_list)"
      ],
      "metadata": {
        "id": "kdZI6kMYrOw4"
      },
      "execution_count": null,
      "outputs": []
    },
    {
      "cell_type": "markdown",
      "source": [
        "### Displaying Output: The `print()` Function\n",
        "\n",
        "The `print()` function is essential for displaying information, variable values, or results to the console/output cell.\n",
        "\n",
        "**Basic Syntax:** `print(object1, object2, ..., sep=' ', end='\\\\n')`\n",
        "- `object1, object2, ...`: The items to be printed.\n",
        "- `sep=' '`: (Optional) The separator between items (default is a space).\n",
        "- `end='\\\\n'`: (Optional) What to print at the end (default is a newline character `\\\\n`, which moves the cursor to the next line)."
      ],
      "metadata": {
        "id": "wK_fc8HArQxB"
      }
    },
    {
      "cell_type": "code",
      "source": [
        "print(\"Hello, Earth Scientists!\") # Printing a simple string\n",
        "\n",
        "year = 2024\n",
        "print(\"Current year:\", year) # Printing a string and a variable\n",
        "\n",
        "# The temperatures list from before\n",
        "print(\"Temperature readings:\", temperatures) # Printing a list\n",
        "\n",
        "# Printing multiple items with a custom separator\n",
        "name = \"Vesuvio\"\n",
        "elevation = 1281\n",
        "print(name, elevation, \"meters\", sep=\" - \") # Using sep argument\n",
        "\n",
        "# Example of 'end' argument\n",
        "print(\"This is line one.\", end=\" \")\n",
        "print(\"This continues on the same line.\")"
      ],
      "metadata": {
        "id": "kkphO0VZrSrI"
      },
      "execution_count": null,
      "outputs": []
    },
    {
      "cell_type": "markdown",
      "source": [
        "### Generating Sequences: The `range()` Function\n",
        "\n",
        "The `range()` function generates a sequence of numbers. It's particularly useful when you want to repeat an action a specific number of times (e.g., in loops).\n",
        "\n",
        "- It does *not* create a list directly, but an \"iterable\" object that generates numbers on demand. This is memory efficient for large ranges.\n",
        "- To see the numbers as a list, you can explicitly convert it using `list(range(...))`.\n",
        "\n",
        "**Common Syntaxes:**\n",
        "1.  `range(stop)`:\n",
        "    - Generates numbers from `0` up to (but not including) `stop`.\n",
        "    - Example: `range(5)` produces numbers equivalent to `0, 1, 2, 3, 4`.\n",
        "2.  `range(start, stop)`:\n",
        "    - Generates numbers from `start` up to (but not including) `stop`.\n",
        "    - Example: `range(2, 6)` produces numbers equivalent to `2, 3, 4, 5`.\n",
        "3.  `range(start, stop, step)`:\n",
        "    - Generates numbers from `start` up to (but not including) `stop`, with an increment of `step`.\n",
        "    - Example: `range(1, 10, 2)` produces numbers equivalent to `1, 3, 5, 7, 9`.\n",
        "    - `step` can also be negative for counting down."
      ],
      "metadata": {
        "id": "K8_ge_PsrV5a"
      }
    },
    {
      "cell_type": "code",
      "source": [
        "# To see the numbers generated by range, we can convert it to a list\n",
        "seq1 = list(range(5))\n",
        "print(\"list(range(5)):\", seq1)\n",
        "\n",
        "seq2 = list(range(3, 8))\n",
        "print(\"list(range(3, 8)):\", seq2)\n",
        "\n",
        "seq3 = list(range(10, 0, -2)) # Counting down\n",
        "print(\"list(range(10, 0, -2)):\", seq3)\n",
        "\n",
        "# range() is often used in for loops (more on loops later in the course)\n",
        "print(\"\\nLooping with range:\")\n",
        "for i in range(3): # This will execute the indented block 3 times (for i=0, i=1, i=2)\n",
        "    print(\"Iteration number:\", i)"
      ],
      "metadata": {
        "id": "M81Fd-yfrYCY"
      },
      "execution_count": null,
      "outputs": []
    },
    {
      "cell_type": "markdown",
      "source": [
        "### Accessing List Elements: Indexing\n",
        "\n",
        "Each item in a list has a position, called its **index**.\n",
        "\n",
        "#### Basic Indexing (0-based)\n",
        "- **Crucial: Python uses 0-based indexing!**\n",
        "  - The first item is at index `0`.\n",
        "  - The second item is at index `1`, and so on.\n",
        "- **Syntax:** `list_name[index]`"
      ],
      "metadata": {
        "id": "xWuD_j_5rZy3"
      }
    },
    {
      "cell_type": "code",
      "source": [
        "rock_samples = [\"granite\", \"basalt\", \"shale\", \"sandstone\", \"marble\"]\n",
        "print(\"Rock Samples:\", rock_samples)\n",
        "\n",
        "# Accessing the first element\n",
        "first_sample = rock_samples[0]\n",
        "print(\"First sample (rock_samples[0]):\", first_sample)\n",
        "\n",
        "# Accessing the third element\n",
        "third_sample = rock_samples[2]\n",
        "print(\"Third sample (rock_samples[2]):\", third_sample)\n",
        "\n",
        "# You can also modify elements using their index (since lists are mutable)\n",
        "rock_samples[0] = \"gneiss\"\n",
        "print(\"Modified Rock Samples:\", rock_samples)\n",
        "print(\"New first sample:\", rock_samples[0])"
      ],
      "metadata": {
        "id": "5VPV6px3rcTz"
      },
      "execution_count": null,
      "outputs": []
    },
    {
      "cell_type": "markdown",
      "source": [
        "#### Common Error: `IndexError`\n",
        "Accessing an index that is out of the list's bounds will result in an `IndexError`.\n",
        "For `rock_samples` above (which has 5 elements, so valid indices are 0, 1, 2, 3, 4), trying to access `rock_samples[5]` would cause an error."
      ],
      "metadata": {
        "id": "PwKOLEY5reSn"
      }
    },
    {
      "cell_type": "code",
      "source": [
        "# This cell will cause an error if uncommented and run,\n",
        "# because the list 'rock_samples' has indices from 0 to 4.\n",
        "# print(rock_samples[5]) # IndexError: list index out of range\n",
        "# print(rock_samples[-6])# IndexError: list index out of range\n",
        "\n",
        "# To find the length of a list (number of items), use the len() function\n",
        "num_samples = len(rock_samples)\n",
        "print(\"Number of rock samples:\", num_samples)\n",
        "print(\"Last valid positive index:\", num_samples - 1)"
      ],
      "metadata": {
        "id": "tOzvltvFrgEk"
      },
      "execution_count": null,
      "outputs": []
    },
    {
      "cell_type": "markdown",
      "source": [
        "#### Negative Indexing\n",
        "Python also supports **negative indexing**, which is very handy for accessing elements from the end of the list:\n",
        "- `-1` refers to the **last** item.\n",
        "- `-2` refers to the **second-to-last** item, and so on."
      ],
      "metadata": {
        "id": "3l6mp7zYriHY"
      }
    },
    {
      "cell_type": "code",
      "source": [
        "elements = [\"Oxygen\", \"Silicon\", \"Aluminum\", \"Iron\", \"Calcium\", \"Sodium\", \"Potassium\", \"Magnesium\"]\n",
        "print(\"Common elements in Earth's crust:\", elements)\n",
        "\n",
        "# Accessing the last element\n",
        "last_element = elements[-1]\n",
        "print(\"Last element (elements[-1]):\", last_element)\n",
        "\n",
        "# Accessing the second-to-last element\n",
        "second_last_element = elements[-2]\n",
        "print(\"Second-to-last element (elements[-2]):\", second_last_element)"
      ],
      "metadata": {
        "id": "cZ87wbEVrj_E"
      },
      "execution_count": null,
      "outputs": []
    },
    {
      "cell_type": "markdown",
      "source": [
        "### Accessing List Elements: Slicing\n",
        "\n",
        "**Slicing** allows you to get a sub-list (a \"slice\") from a list. The result of a slice is a new list.\n",
        "\n",
        "#### Basic Slicing: `list_name[start:stop]`\n",
        "- `start`: The index of the first item to include (inclusive). If omitted, defaults to `0` (beginning of the list).\n",
        "- `stop`: The index of the first item **not** to include (exclusive). If omitted, defaults to the end of the list."
      ],
      "metadata": {
        "id": "WPgpfWBxrl6h"
      }
    },
    {
      "cell_type": "code",
      "source": [
        "measurements = [10.1, 12.5, 11.3, 13.0, 12.8, 10.9, 11.5, 14.2]\n",
        "print(\"Original measurements:\", measurements)\n",
        "\n",
        "# Get elements from index 1 up to (but not including) index 4\n",
        "sub_list1 = measurements[1:4]\n",
        "print(\"measurements[1:4]:\", sub_list1) # Expected: [12.5, 11.3, 13.0]\n",
        "\n",
        "# Get elements from the beginning up to index 3 (exclusive)\n",
        "sub_list2 = measurements[:3] # Omitting start means from the beginning\n",
        "print(\"measurements[:3]:\", sub_list2)  # Expected: [10.1, 12.5, 11.3]\n",
        "\n",
        "# Get elements from index 2 to the end\n",
        "sub_list3 = measurements[2:] # Omitting stop means until the end\n",
        "print(\"measurements[2:]:\", sub_list3)  # Expected: [11.3, 13.0, 12.8, 10.9, 11.5, 14.2]\n",
        "\n",
        "# Create a copy of the entire list\n",
        "full_copy = measurements[:]\n",
        "print(\"measurements[:]:\", full_copy)\n",
        "print(\"Is full_copy the same object as measurements?\", full_copy is measurements) # False, it's a new list (shallow copy)"
      ],
      "metadata": {
        "id": "fM8gnJqTroer"
      },
      "execution_count": null,
      "outputs": []
    },
    {
      "cell_type": "markdown",
      "source": [
        "#### Slicing with a Step: `list_name[start:stop:step]`\n",
        "- `step`: The increment (or decrement if negative) between indices. Defaults to `1`.\n",
        "- Can be used to select every Nth item, or to reverse a list."
      ],
      "metadata": {
        "id": "NLEM09hBrqxT"
      }
    },
    {
      "cell_type": "code",
      "source": [
        "numbers = [0, 1, 2, 3, 4, 5, 6, 7, 8, 9, 10]\n",
        "print(\"Original numbers:\", numbers)\n",
        "\n",
        "# Get every second element from the beginning\n",
        "every_other = numbers[::2] # Omitting start and stop, with step 2\n",
        "print(\"numbers[::2]:\", every_other) # Expected: [0, 2, 4, 6, 8, 10]\n",
        "\n",
        "# Get elements from index 1 to 8 (exclusive), with a step of 3\n",
        "stepped_slice = numbers[1:8:3]\n",
        "print(\"numbers[1:8:3]:\", stepped_slice) # Expected: [1, 4, 7]\n",
        "\n",
        "# A common trick to reverse a list\n",
        "reversed_list = numbers[::-1] # Step of -1 reverses the list\n",
        "print(\"numbers[::-1]:\", reversed_list)\n",
        "\n",
        "# Using a negative step with start and stop\n",
        "# Get elements from index 7 down to (but not including) index 2, in reverse\n",
        "reverse_partial = numbers[7:2:-1]\n",
        "print(\"numbers[7:2:-1]:\", reverse_partial) # Expected: [7, 6, 5, 4, 3]"
      ],
      "metadata": {
        "id": "U0Lde72brtJS"
      },
      "execution_count": null,
      "outputs": []
    }
  ]
}