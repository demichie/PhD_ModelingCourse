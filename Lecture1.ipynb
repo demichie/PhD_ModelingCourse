{
  "nbformat": 4,
  "nbformat_minor": 0,
  "metadata": {
    "colab": {
      "provenance": [],
      "include_colab_link": true
    },
    "kernelspec": {
      "name": "python3",
      "display_name": "Python 3"
    },
    "language_info": {
      "name": "python"
    }
  },
  "cells": [
    {
      "cell_type": "markdown",
      "metadata": {
        "id": "view-in-github",
        "colab_type": "text"
      },
      "source": [
        "<a href=\"https://colab.research.google.com/github/demichie/PhD_ModelingCourse/blob/main/Lecture1.ipynb\" target=\"_parent\"><img src=\"https://colab.research.google.com/assets/colab-badge.svg\" alt=\"Open In Colab\"/></a>"
      ]
    },
    {
      "cell_type": "markdown",
      "source": [
        "# Principles of numerical modelling in geosciences\n",
        "## Lecture 1 -- From Physical Processes to Numerical Solutions\n",
        "**Author:** Mattia de' Michieli Vitturi\n",
        "**Date:** PhD Course in Earth Sciences"
      ],
      "metadata": {
        "id": "uRSxp10sdTpj"
      }
    },
    {
      "cell_type": "markdown",
      "source": [
        "# Motivation and Definitions"
      ],
      "metadata": {
        "id": "H8kKMM74dVX0"
      }
    },
    {
      "cell_type": "markdown",
      "source": [
        "### Why Study Differential Equations?\n",
        "\n",
        "- Many Earth Science phenomena involve time evolution: heat transfer, fluid flow, seismic waves.\n",
        "- These are governed by fundamental conservation laws expressed as differential equations.\n",
        "- Understanding them allows us to predict and simulate natural processes."
      ],
      "metadata": {
        "id": "ZOcXNlS7dwiM"
      }
    },
    {
      "cell_type": "markdown",
      "source": [
        "### The Role of Differential Equations in Earth Sciences\n",
        "\n",
        "- Differential equations describe how quantities evolve in time and/or space.\n",
        "- They arise naturally when expressing fundamental physical laws (e.g., conservation of mass, momentum, and energy).\n",
        "- Almost every geophysical process can be described using ordinary or partial differential equations.\n",
        "- Examples include:\n",
        "  - Cooling of lava flows\n",
        "  - Radioactive decay\n",
        "  - Groundwater flow\n",
        "  - Atmospheric circulation\n",
        "- Analytical solutions exist only for simple cases. Numerical methods are essential."
      ],
      "metadata": {
        "id": "uHCbOx1Vdxpu"
      }
    },
    {
      "cell_type": "markdown",
      "source": [
        "### Cooling in Earth Sciences\n",
        "\n",
        "- **Examples of cooling processes:**\n",
        "  - Lava flow cooling after emplacement.\n",
        "  - Cooling of the Earth’s lithosphere over geological timescales.\n",
        "  - Thermal relaxation of volcanic deposits.\n",
        "- **What do they have in common?**\n",
        "  - Heat is transferred from a hot material to a cooler environment.\n",
        "  - The temperature of the material decreases over time.\n",
        "- To describe this behavior, we need a mathematical model."
      ],
      "metadata": {
        "id": "w2pLScRtd0cH"
      }
    },
    {
      "cell_type": "markdown",
      "source": [
        "### Newton’s Cooling Law – Discrete Formulation\n",
        "\n",
        "- Based on the physical observation that heat loss is proportional to temperature difference.\n",
        "- Let:\n",
        "  - $T(t)$ be the temperature of the body at time $t$.\n",
        "  - $T_a$ be the constant ambient temperature.\n",
        "  - $k > 0$ the cooling coefficient.\n",
        "- Over a small time interval $\\Delta t$, the change in temperature is:\n",
        "  $$\n",
        "    \\Delta T = T(t+\\Delta t) - T(t) = -k\\,(T(t) - T_a)\\, \\Delta t\n",
        "  $$\n",
        "- Rearranged:\n",
        "  $$\n",
        "    \\frac{T(t+\\Delta t) - T(t)}{\\Delta t} = -k\\,(T(t) - T_a)\n",
        "  $$\n",
        "- This is a finite difference expression for the rate of temperature change."
      ],
      "metadata": {
        "id": "rTFzHf2Zd3CQ"
      }
    },
    {
      "cell_type": "markdown",
      "source": [
        "### Newton’s Cooling Law – Differential Formulation\n",
        "\n",
        "- When $\\Delta t \\to 0$, the finite difference becomes a derivative:\n",
        "  $$\n",
        "    \\frac{dT}{dt} = \\lim_{\\Delta t \\to 0} \\frac{T(t+\\Delta t) - T(t)}{\\Delta t}\n",
        "  $$\n",
        "- Taking the limit of the previous equation:\n",
        "  $$\n",
        "    \\frac{dT}{dt} = -k\\,(T(t) - T_a)\n",
        "  $$\n",
        "- This is a first-order linear ordinary differential equation (ODE).\n",
        "- Widely used in Earth sciences to model cooling:\n",
        "  - Lava temperature evolution.\n",
        "  - Permafrost thawing.\n",
        "  - Post-eruption thermal relaxation."
      ],
      "metadata": {
        "id": "fuAwnsTQd5uH"
      }
    },
    {
      "cell_type": "markdown",
      "source": [
        "### From Physical Law to Differential Equation – Newton’s Cooling Law\n",
        "\n",
        "- **Empirical observation (Newton, 1701):**\n",
        "  > “The rate at which an object cools is proportional to the difference in temperature with its surroundings.”\n",
        "- **Discrete formulation:**\n",
        "  $$\n",
        "    \\Delta T = -k (T - T_a)\\, \\Delta t\n",
        "  $$\n",
        "- **Differential formulation:**\n",
        "  $$\n",
        "    \\frac{dT}{dt} = -k (T - T_a)\n",
        "  $$\n",
        "- This first-order ODE is widely used to describe thermal processes in Earth sciences.\n",
        "\n",
        "Historical note: Newton introduced this law in his 1701 paper “Scala graduum caloris.”"
      ],
      "metadata": {
        "id": "6BWAyGH9d9Em"
      }
    },
    {
      "cell_type": "markdown",
      "source": [
        "### Ordinary Differential Equations (ODEs)\n",
        "\n",
        "- An **Ordinary Differential Equation** (ODE) involves one or more derivatives with respect to a **single independent variable**, usually time ($t$).\n",
        "  $$\n",
        "    \\frac{dT}{dt} = -k(T - T_a)\n",
        "  $$\n",
        "- The unknown is a function of $t$ only (e.g., temperature, concentration, velocity...).\n",
        "- ODEs are widely used in Earth Sciences to model:\n",
        "  - Radioactive decay.\n",
        "  - Cooling/heating of materials.\n",
        "  - Chemical reaction kinetics.\n",
        "  - Mass transfer in simple systems.\n",
        "- We will focus first on ODEs and how to solve them numerically."
      ],
      "metadata": {
        "id": "KjumK2NId_F4"
      }
    },
    {
      "cell_type": "markdown",
      "source": [
        "### ODEs vs PDEs\n",
        "\n",
        "- **Partial Differential Equations (PDEs)** involve derivatives with respect to **multiple independent variables**, e.g. time and space.\n",
        "  $$\n",
        "    \\frac{\\partial T}{\\partial t} = \\kappa \\frac{\\partial^2 T}{\\partial x^2}\n",
        "  $$\n",
        "- Example: the heat equation in a 1D rock layer ($T = T(x, t)$).\n",
        "- PDEs are essential to describe:\n",
        "  - Heat diffusion in the Earth's crust.\n",
        "  - Groundwater flow.\n",
        "  - Deformation of rocks under stress.\n",
        "  - Atmospheric or oceanic dynamics.\n",
        "- In this course, we start with ODEs and later introduce some examples of PDEs, discussing how and why their numerical treatment differs."
      ],
      "metadata": {
        "id": "F9EDFpY1eBOc"
      }
    },
    {
      "cell_type": "markdown",
      "source": [
        "### Radioactive Decay in Earth Sciences\n",
        "\n",
        "- Radioactive isotopes are used for **radiometric dating** of rocks and minerals.\n",
        "- Examples:\n",
        "  - $^{238}\\text{U} \\rightarrow ^{206}\\text{Pb}$ (half-life $\\approx$ 4.5 billion years)\n",
        "  - $^{14}\\text{C} \\rightarrow ^{14}\\text{N}$ (half-life $\\approx$ 5730 years)\n",
        "- The amount of the radioactive parent isotope decreases over time.\n",
        "- We want to model the evolution of the quantity $N(t)$ = number of atoms at time $t$."
      ],
      "metadata": {
        "id": "S5xwmYW0eDIO"
      }
    },
    {
      "cell_type": "markdown",
      "source": [
        "### From Discrete Steps to Continuous Model\n",
        "\n",
        "- Let $N_k$ be the number of atoms at time $t_k = k \\Delta t$.\n",
        "\n",
        "- Assume a constant fraction $\\alpha$ of atoms decays in each time step:\n",
        "  $$\n",
        "    N_{k+1} = N_k - \\alpha N_k = (1 - \\alpha) N_k\n",
        "  $$\n",
        "\n",
        "- Recursive expression:\n",
        "  $$\n",
        "    N_{k} = (1 - \\alpha)^k N_0\n",
        "  $$\n",
        "\n",
        "- Taking the limit as $\\Delta t \\to 0$ and defining $\\lambda = \\lim_{\\Delta t \\to 0} \\frac{\\alpha}{\\Delta t}$:\n",
        "  $$\n",
        "    \\frac{dN}{dt} = -\\lambda N(t)\n",
        "  $$"
      ],
      "metadata": {
        "id": "2ZuLrU_meD3V"
      }
    },
    {
      "cell_type": "markdown",
      "source": [
        "### The Differential Equation of Radioactive Decay\n",
        "\n",
        "- We have derived the ODE:\n",
        "  $$\n",
        "    \\frac{dN}{dt} = -\\lambda N(t)\n",
        "  $$\n",
        "- Notation:\n",
        "  - $N(t)$: number of atoms (or concentration) at time $t$.\n",
        "  - $t$: time (independent variable).\n",
        "  - $\\lambda$: decay constant, specific to the isotope.\n",
        "- This is a first-order linear ODE with known analytical solution:\n",
        "  $$\n",
        "    N(t) = N_0 e^{-\\lambda t}\n",
        "  $$\n",
        "- This model is the foundation of many dating techniques in geochronology."
      ],
      "metadata": {
        "id": "GhFUNQW7eFvh"
      }
    },
    {
      "cell_type": "markdown",
      "source": [
        "### Why Python?\n",
        "\n",
        "- **Python** is a modern, open-source programming language.\n",
        "- Widely used in science and engineering:\n",
        "  - Simple and readable syntax.\n",
        "  - Powerful libraries for scientific computing.\n",
        "  - Strong community and many online resources.\n",
        "- In Earth Sciences, Python is used for:\n",
        "  - Data analysis (e.g., satellite or geochemical data)\n",
        "  - Numerical modeling (e.g., climate, volcanology, geodynamics)\n",
        "  - Visualization (e.g., topography, maps, time series)"
      ],
      "metadata": {
        "id": "b7jsbYlOeH4X"
      }
    },
    {
      "cell_type": "markdown",
      "source": [
        "### Jupyter Notebooks\n",
        "\n",
        "- We will use **Jupyter Notebooks** to run Python code interactively.\n",
        "- A notebook is a web-based interface combining:\n",
        "  - Code execution\n",
        "  - Documentation (markdown)\n",
        "  - Visualizations (plots, maps)\n",
        "- Ideal for scientific workflows:\n",
        "  - Step-by-step exploration\n",
        "  - Documentation of the analysis\n",
        "  - Reproducibility and sharing\n",
        "- You can run notebooks locally or online (e.g., via Google Colab or VS Code)."
      ],
      "metadata": {
        "id": "-9UNBKUWeJsA"
      }
    },
    {
      "cell_type": "markdown",
      "source": [
        "### Python Syntax Basics\n",
        "\n",
        "- Variables and assignment:"
      ],
      "metadata": {
        "id": "UhA_Ny2SeMIW"
      }
    },
    {
      "cell_type": "code",
      "source": [
        "x = 3.0       # float\n",
        "name = \"rock\" # string\n",
        "is_hot = True # boolean"
      ],
      "metadata": {
        "id": "KYU9hQJleRuE"
      },
      "execution_count": null,
      "outputs": []
    },
    {
      "cell_type": "markdown",
      "source": [
        "- Indentation defines code blocks (e.g., loops, functions):\n",
        "\n",
        "  **Example:**"
      ],
      "metadata": {
        "id": "IX-PIrhZeSrh"
      }
    },
    {
      "cell_type": "code",
      "source": [
        "for i in range(5):\n",
        "    print(i)"
      ],
      "metadata": {
        "id": "Aak-eCsmeVVU"
      },
      "execution_count": null,
      "outputs": []
    },
    {
      "cell_type": "markdown",
      "source": [
        "- Comments start with `#`, and help explain your code."
      ],
      "metadata": {
        "id": "suKV2L3WeYB0"
      }
    },
    {
      "cell_type": "markdown",
      "source": [
        "### Python Syntax Basics: Getting Started\n",
        "\n",
        "Python is known for its readability and simple syntax. Let's cover some fundamental concepts.\n",
        "\n",
        "#### Variables and Assignment\n",
        "\n",
        "In Python, you create a variable by assigning a value to it using the equals sign `=`. Python is dynamically typed, meaning you don't need to declare the variable type explicitly."
      ],
      "metadata": {
        "id": "khsIwd99q-98"
      }
    },
    {
      "cell_type": "code",
      "source": [
        "# Assigning different types of data to variables\n",
        "an_integer = 42\n",
        "a_float = 3.14159\n",
        "a_string = \"Hello, Geoscientists!\"\n",
        "a_boolean = True # Note the capital 'T'\n",
        "\n",
        "# You can print them to see their values\n",
        "print(an_integer)\n",
        "print(a_float)\n",
        "print(a_string)\n",
        "print(a_boolean)\n",
        "\n",
        "# Variables can be reassigned\n",
        "x = 10\n",
        "print(\"x is initially:\", x)\n",
        "x = \"Now I'm a string!\"\n",
        "print(\"x is now:\", x)"
      ],
      "metadata": {
        "id": "BAmy4ooVrCVp"
      },
      "execution_count": null,
      "outputs": []
    },
    {
      "cell_type": "markdown",
      "source": [
        "#### Comments\n",
        "Comments are used to explain code. In Python, a comment starts with a hash symbol `#` and extends to the end of the line."
      ],
      "metadata": {
        "id": "ATpJZmKArFGZ"
      }
    },
    {
      "cell_type": "code",
      "source": [
        "# This is a single-line comment\n",
        "radius = 5 # radius of a circle in meters\n",
        "# Comments can also be on the same line as code\n",
        "\n",
        "# It's good practice to comment non-obvious parts of your code"
      ],
      "metadata": {
        "id": "ggE7xdhTrHZ4"
      },
      "execution_count": null,
      "outputs": []
    },
    {
      "cell_type": "markdown",
      "source": [
        "### Handling Collections of Data\n",
        "\n",
        "In many scientific tasks, we deal with collections of data, not just single values. For example:\n",
        "- A series of temperature measurements over time.\n",
        "- A list of rock sample names.\n",
        "- Coordinates (x, y, z) of multiple seismic events.\n",
        "- Porosity values from different core samples.\n",
        "\n",
        "Storing each value in a separate variable (e.g., `temp1`, `temp2`, `temp3`, ...) would be impractical and inefficient. We need a way to group related data items together."
      ],
      "metadata": {
        "id": "qsji4V_drJqr"
      }
    },
    {
      "cell_type": "markdown",
      "source": [
        "### Introducing Lists in Python\n",
        "\n",
        "Python's **list** is a versatile and commonly used data structure to store an ordered sequence of items.\n",
        "\n",
        "**Syntax:** Lists are created using square brackets `[]`, with items separated by commas.\n",
        "\n",
        "**Characteristics of Python Lists:**\n",
        "- **Ordered:** Items are stored in a specific sequence.\n",
        "- **Mutable:** You can change, add, or remove items after the list is created.\n",
        "- **Can contain mixed data types:** A single list can hold numbers, strings, booleans, and even other lists."
      ],
      "metadata": {
        "id": "FAyiMn0arMcc"
      }
    },
    {
      "cell_type": "code",
      "source": [
        "# Creating a list of temperatures\n",
        "temperatures = [15.5, 16.1, 15.8, 17.0]\n",
        "print(\"Temperatures:\", temperatures)\n",
        "\n",
        "# Creating a list of rock types\n",
        "rock_types = [\"basalt\", \"granite\", \"shale\"]\n",
        "print(\"Rock Types:\", rock_types)\n",
        "\n",
        "# A list can contain mixed data types\n",
        "mixed_data = [10, \"andesite\", 25.3, True]\n",
        "print(\"Mixed Data:\", mixed_data)\n",
        "\n",
        "# An empty list\n",
        "empty_list = []\n",
        "print(\"Empty List:\", empty_list)"
      ],
      "metadata": {
        "id": "kdZI6kMYrOw4"
      },
      "execution_count": null,
      "outputs": []
    },
    {
      "cell_type": "markdown",
      "source": [
        "### Displaying Output: The `print()` Function\n",
        "\n",
        "The `print()` function is essential for displaying information, variable values, or results to the console/output cell.\n",
        "\n",
        "**Basic Syntax:** `print(object1, object2, ..., sep=' ', end='\\n')`\n",
        "- `object1, object2, ...`: The items to be printed.\n",
        "- `sep=' '`: (Optional) The separator between items (default is a space).\n",
        "- `end='\\n'`: (Optional) What to print at the end (default is a newline character `\\n`, which moves the cursor to the next line)."
      ],
      "metadata": {
        "id": "wK_fc8HArQxB"
      }
    },
    {
      "cell_type": "code",
      "source": [
        "print(\"Hello, Earth Scientists!\") # Printing a simple string\n",
        "\n",
        "year = 2024\n",
        "print(\"Current year:\", year) # Printing a string and a variable\n",
        "\n",
        "# The temperatures list from before\n",
        "print(\"Temperature readings:\", temperatures) # Printing a list\n",
        "\n",
        "# Printing multiple items with a custom separator\n",
        "name = \"Vesuvio\"\n",
        "elevation = 1281\n",
        "print(name, elevation, \"meters\", sep=\" - \") # Using sep argument\n",
        "\n",
        "# Example of 'end' argument\n",
        "print(\"This is line one.\", end=\" \")\n",
        "print(\"This continues on the same line.\")"
      ],
      "metadata": {
        "id": "kkphO0VZrSrI"
      },
      "execution_count": null,
      "outputs": []
    },
    {
      "cell_type": "markdown",
      "source": [
        "### Generating Sequences: The `range()` Function\n",
        "\n",
        "The `range()` function generates a sequence of numbers. It's particularly useful when you want to repeat an action a specific number of times (e.g., in loops).\n",
        "\n",
        "- It does *not* create a list directly, but an \"iterable\" object that generates numbers on demand. This is memory efficient for large ranges.\n",
        "- To see the numbers as a list, you can explicitly convert it using `list(range(...))`.\n",
        "\n",
        "**Common Syntaxes:**\n",
        "1.  `range(stop)`:\n",
        "    - Generates numbers from `0` up to (but not including) `stop`.\n",
        "    - Example: `range(5)` produces numbers equivalent to `0, 1, 2, 3, 4`.\n",
        "2.  `range(start, stop)`:\n",
        "    - Generates numbers from `start` up to (but not including) `stop`.\n",
        "    - Example: `range(2, 6)` produces numbers equivalent to `2, 3, 4, 5`.\n",
        "3.  `range(start, stop, step)`:\n",
        "    - Generates numbers from `start` up to (but not including) `stop`, with an increment of `step`.\n",
        "    - Example: `range(1, 10, 2)` produces numbers equivalent to `1, 3, 5, 7, 9`.\n",
        "    - `step` can also be negative for counting down."
      ],
      "metadata": {
        "id": "K8_ge_PsrV5a"
      }
    },
    {
      "cell_type": "code",
      "source": [
        "# To see the numbers generated by range, we can convert it to a list\n",
        "seq1 = list(range(5))\n",
        "print(\"list(range(5)):\", seq1)\n",
        "\n",
        "seq2 = list(range(3, 8))\n",
        "print(\"list(range(3, 8)):\", seq2)\n",
        "\n",
        "seq3 = list(range(10, 0, -2)) # Counting down\n",
        "print(\"list(range(10, 0, -2)):\", seq3)\n",
        "\n",
        "# range() is often used in for loops (more on loops later in the course)\n",
        "print(\"\\nLooping with range:\")\n",
        "for i in range(3): # This will execute the indented block 3 times (for i=0, i=1, i=2)\n",
        "    print(\"Iteration number:\", i)"
      ],
      "metadata": {
        "id": "M81Fd-yfrYCY"
      },
      "execution_count": null,
      "outputs": []
    },
    {
      "cell_type": "markdown",
      "source": [
        "### Accessing List Elements: Indexing\n",
        "\n",
        "Each item in a list has a position, called its **index**.\n",
        "\n",
        "#### Basic Indexing (0-based)\n",
        "- **Crucial: Python uses 0-based indexing!**\n",
        "  - The first item is at index `0`.\n",
        "  - The second item is at index `1`, and so on.\n",
        "- **Syntax:** `list_name[index]`"
      ],
      "metadata": {
        "id": "xWuD_j_5rZy3"
      }
    },
    {
      "cell_type": "code",
      "source": [
        "rock_samples = [\"granite\", \"basalt\", \"shale\", \"sandstone\", \"marble\"]\n",
        "print(\"Rock Samples:\", rock_samples)\n",
        "\n",
        "# Accessing the first element\n",
        "first_sample = rock_samples[0]\n",
        "print(\"First sample (rock_samples[0]):\", first_sample)\n",
        "\n",
        "# Accessing the third element\n",
        "third_sample = rock_samples[2]\n",
        "print(\"Third sample (rock_samples[2]):\", third_sample)\n",
        "\n",
        "# You can also modify elements using their index (since lists are mutable)\n",
        "rock_samples[0] = \"gneiss\"\n",
        "print(\"Modified Rock Samples:\", rock_samples)\n",
        "print(\"New first sample:\", rock_samples[0])"
      ],
      "metadata": {
        "id": "5VPV6px3rcTz"
      },
      "execution_count": null,
      "outputs": []
    },
    {
      "cell_type": "markdown",
      "source": [
        "#### Common Error: `IndexError`\n",
        "Accessing an index that is out of the list's bounds will result in an `IndexError`.\n",
        "For `rock_samples` above (which has 5 elements, so valid indices are 0, 1, 2, 3, 4), trying to access `rock_samples[5]` would cause an error."
      ],
      "metadata": {
        "id": "PwKOLEY5reSn"
      }
    },
    {
      "cell_type": "code",
      "source": [
        "# This cell will cause an error if uncommented and run,\n",
        "# because the list 'rock_samples' has indices from 0 to 4.\n",
        "# print(rock_samples[5]) # IndexError: list index out of range\n",
        "# print(rock_samples[-6])# IndexError: list index out of range\n",
        "\n",
        "# To find the length of a list (number of items), use the len() function\n",
        "num_samples = len(rock_samples)\n",
        "print(\"Number of rock samples:\", num_samples)\n",
        "print(\"Last valid positive index:\", num_samples - 1)"
      ],
      "metadata": {
        "id": "tOzvltvFrgEk"
      },
      "execution_count": null,
      "outputs": []
    },
    {
      "cell_type": "markdown",
      "source": [
        "#### Negative Indexing\n",
        "Python also supports **negative indexing**, which is very handy for accessing elements from the end of the list:\n",
        "- `-1` refers to the **last** item.\n",
        "- `-2` refers to the **second-to-last** item, and so on."
      ],
      "metadata": {
        "id": "3l6mp7zYriHY"
      }
    },
    {
      "cell_type": "code",
      "source": [
        "elements = [\"Oxygen\", \"Silicon\", \"Aluminum\", \"Iron\", \"Calcium\", \"Sodium\", \"Potassium\", \"Magnesium\"]\n",
        "print(\"Common elements in Earth's crust:\", elements)\n",
        "\n",
        "# Accessing the last element\n",
        "last_element = elements[-1]\n",
        "print(\"Last element (elements[-1]):\", last_element)\n",
        "\n",
        "# Accessing the second-to-last element\n",
        "second_last_element = elements[-2]\n",
        "print(\"Second-to-last element (elements[-2]):\", second_last_element)"
      ],
      "metadata": {
        "id": "cZ87wbEVrj_E"
      },
      "execution_count": null,
      "outputs": []
    },
    {
      "cell_type": "markdown",
      "source": [
        "### Accessing List Elements: Slicing\n",
        "\n",
        "**Slicing** allows you to get a sub-list (a \"slice\") from a list. The result of a slice is a new list.\n",
        "\n",
        "#### Basic Slicing: `list_name[start:stop]`\n",
        "- `start`: The index of the first item to include (inclusive). If omitted, defaults to `0` (beginning of the list).\n",
        "- `stop`: The index of the first item **not** to include (exclusive). If omitted, defaults to the end of the list."
      ],
      "metadata": {
        "id": "WPgpfWBxrl6h"
      }
    },
    {
      "cell_type": "code",
      "source": [
        "measurements = [10.1, 12.5, 11.3, 13.0, 12.8, 10.9, 11.5, 14.2]\n",
        "print(\"Original measurements:\", measurements)\n",
        "\n",
        "# Get elements from index 1 up to (but not including) index 4\n",
        "sub_list1 = measurements[1:4]\n",
        "print(\"measurements[1:4]:\", sub_list1) # Expected: [12.5, 11.3, 13.0]\n",
        "\n",
        "# Get elements from the beginning up to index 3 (exclusive)\n",
        "sub_list2 = measurements[:3] # Omitting start means from the beginning\n",
        "print(\"measurements[:3]:\", sub_list2)  # Expected: [10.1, 12.5, 11.3]\n",
        "\n",
        "# Get elements from index 2 to the end\n",
        "sub_list3 = measurements[2:] # Omitting stop means until the end\n",
        "print(\"measurements[2:]:\", sub_list3)  # Expected: [11.3, 13.0, 12.8, 10.9, 11.5, 14.2]\n",
        "\n",
        "# Create a copy of the entire list\n",
        "full_copy = measurements[:]\n",
        "print(\"measurements[:]:\", full_copy)\n",
        "print(\"Is full_copy the same object as measurements?\", full_copy is measurements) # False, it's a new list (shallow copy)"
      ],
      "metadata": {
        "id": "fM8gnJqTroer"
      },
      "execution_count": null,
      "outputs": []
    },
    {
      "cell_type": "markdown",
      "source": [
        "#### Slicing with a Step: `list_name[start:stop:step]`\n",
        "- `step`: The increment (or decrement if negative) between indices. Defaults to `1`.\n",
        "- Can be used to select every Nth item, or to reverse a list."
      ],
      "metadata": {
        "id": "NLEM09hBrqxT"
      }
    },
    {
      "cell_type": "code",
      "source": [
        "numbers = [0, 1, 2, 3, 4, 5, 6, 7, 8, 9, 10]\n",
        "print(\"Original numbers:\", numbers)\n",
        "\n",
        "# Get every second element from the beginning\n",
        "every_other = numbers[::2] # Omitting start and stop, with step 2\n",
        "print(\"numbers[::2]:\", every_other) # Expected: [0, 2, 4, 6, 8, 10]\n",
        "\n",
        "# Get elements from index 1 to 8 (exclusive), with a step of 3\n",
        "stepped_slice = numbers[1:8:3]\n",
        "print(\"numbers[1:8:3]:\", stepped_slice) # Expected: [1, 4, 7]\n",
        "\n",
        "# A common trick to reverse a list\n",
        "reversed_list = numbers[::-1] # Step of -1 reverses the list\n",
        "print(\"numbers[::-1]:\", reversed_list)\n",
        "\n",
        "# Using a negative step with start and stop\n",
        "# Get elements from index 7 down to (but not including) index 2, in reverse\n",
        "reverse_partial = numbers[7:2:-1]\n",
        "print(\"numbers[7:2:-1]:\", reverse_partial) # Expected: [7, 6, 5, 4, 3]"
      ],
      "metadata": {
        "id": "U0Lde72brtJS"
      },
      "execution_count": null,
      "outputs": []
    },
    {
      "cell_type": "markdown",
      "source": [
        "### Understanding Variables, References, and Copies in Python\n",
        "\n",
        "When working with data in Python, especially with mutable objects like lists, it's crucial to understand how variables store and refer to that data.\n",
        "\n",
        "#### Variables: Names Pointing to Data (References)\n",
        "\n",
        "In Python, when you assign a variable to an existing **mutable object** (like a list), you are often not creating a new copy of the object. Instead, the new variable becomes another **name (or reference)** pointing to the *same object* in memory.\n",
        "\n",
        "Consider this:"
      ],
      "metadata": {
        "id": "V46gEqg91BHq"
      }
    },
    {
      "cell_type": "code",
      "source": [
        "# 'a' is a name that points to a list object in memory\n",
        "a = [1, 2, 3]\n",
        "print(\"Initial list 'a':\", a)\n",
        "print(\"Memory address of the list 'a' points to:\", id(a))\n",
        "\n",
        "# When we do b = a, 'b' becomes another name pointing to the *exact same* list object\n",
        "b = a\n",
        "print(\"\\nList 'b' after b = a:\", b)\n",
        "print(\"Memory address of the list 'b' points to:\", id(b))\n",
        "\n",
        "# We can check if 'a' and 'b' refer to the same object using the 'is' operator\n",
        "print(\"\\nAre 'a' and 'b' the same object?\", a is b) # This will be True"
      ],
      "metadata": {
        "id": "XVyJSZK81EYg"
      },
      "execution_count": null,
      "outputs": []
    },
    {
      "cell_type": "markdown",
      "source": [
        "Think of `a` and `b` as two labels attached to the same box containing `[1, 2, 3]`.\n",
        "\n",
        "If you modify the list through one variable (one label), the change will be visible through the other variable as well, because they both refer to the exact same underlying data."
      ],
      "metadata": {
        "id": "vPI9zHas1HnT"
      }
    },
    {
      "cell_type": "markdown",
      "source": [
        "#### Modifying Through a Reference: Shared Changes\n",
        "\n",
        "Let's continue with `a` and `b` from the example above."
      ],
      "metadata": {
        "id": "6gI5Tfnf1J2d"
      }
    },
    {
      "cell_type": "code",
      "source": [
        "# We have a and b pointing to the same list [1, 2, 3]\n",
        "# (re-establishing for clarity if running cells independently)\n",
        "a = [1, 2, 3]\n",
        "b = a\n",
        "\n",
        "print(\"Before modification:\")\n",
        "print(\"List a:\", a)\n",
        "print(\"List b:\", b)\n",
        "\n",
        "# Modify the list using the variable 'b'\n",
        "b[0] = 5  # Change the first element of the list that b (and a) points to\n",
        "\n",
        "print(\"\\nAfter modifying b[0] = 5:\")\n",
        "print(\"List a:\", a) # Output will show the change\n",
        "print(\"List b:\", b) # Output will also show the change\n",
        "\n",
        "# Verify they are still the same object\n",
        "print(\"\\nAre 'a' and 'b' still the same object?\", a is b)"
      ],
      "metadata": {
        "id": "a_1JPlZs1LqN"
      },
      "execution_count": null,
      "outputs": []
    },
    {
      "cell_type": "markdown",
      "source": [
        "As you can see, changing `b[0]` also changed `a[0]`. This is because `a` and `b` reference the **same list object**.\n",
        "\n",
        "This behavior is fundamental to understand to avoid unintended side effects when working with mutable data types such as:\n",
        "- lists\n",
        "- dictionaries\n",
        "- sets\n",
        "- most custom objects (classes)\n",
        "\n",
        "For **immutable types** (like numbers, strings, tuples), this direct assignment (`y = x`) behaves more like a copy of the value itself, or rather, multiple names can point to the same immutable object without issue, because that object can never change. If you \"change\" an immutable, you are actually creating a new object."
      ],
      "metadata": {
        "id": "-GAEVqDQ1N-i"
      }
    },
    {
      "cell_type": "code",
      "source": [
        "# Example with immutable type (integer)\n",
        "x_val = 10\n",
        "y_val = x_val\n",
        "\n",
        "print(\"x_val:\", x_val, \"id(x_val):\", id(x_val))\n",
        "print(\"y_val:\", y_val, \"id(y_val):\", id(y_val)) # Often same ID due to Python's optimization for small integers\n",
        "\n",
        "y_val = y_val + 5 # This creates a NEW integer object for 15, y_val now points to it\n",
        "\n",
        "print(\"\\nAfter y_val = y_val + 5:\")\n",
        "print(\"x_val:\", x_val, \"id(x_val):\", id(x_val)) # x_val is unchanged\n",
        "print(\"y_val:\", y_val, \"id(y_val):\", id(y_val)) # y_val points to a new object/ID\n",
        "print(\"Are x_val and y_val the same object?\", x_val is y_val)"
      ],
      "metadata": {
        "id": "WTYzVOMx1QVJ"
      },
      "execution_count": null,
      "outputs": []
    },
    {
      "cell_type": "markdown",
      "source": [
        "### How to Create Actual Copies of Mutable Objects\n",
        "\n",
        "If you need a true, independent copy of a list (or other mutable object), so that changes to the copy do not affect the original, you must explicitly create one.\n",
        "\n",
        "#### Shallow Copy\n",
        "\n",
        "A **shallow copy** creates a new object at the top level, but if the original object contains other mutable objects (e.g., a list of lists), the inner objects are still references (shared between the original and the copy).\n",
        "\n",
        "For simple lists (like a list of numbers or strings), a shallow copy is often sufficient.\n",
        "\n",
        "**Common ways to create a shallow copy of a list:**\n",
        "1.  Using slicing: `new_list = old_list[:]`\n",
        "2.  Using the `list()` constructor: `new_list = list(old_list)`\n",
        "3.  Using the `.copy()` method (available for lists): `new_list = old_list.copy()`"
      ],
      "metadata": {
        "id": "UQnRBCSt1ToE"
      }
    },
    {
      "cell_type": "code",
      "source": [
        "original_list = [10, 20, 30]\n",
        "print(\"Original list:\", original_list, \"id:\", id(original_list))\n",
        "\n",
        "# Method 1: Slicing\n",
        "copied_list_slice = original_list[:]\n",
        "print(\"\\nCopied (slice):\", copied_list_slice, \"id:\", id(copied_list_slice))\n",
        "print(\"Are original_list and copied_list_slice the same object?\", original_list is copied_list_slice)\n",
        "\n",
        "# Method 2: list() constructor\n",
        "copied_list_constructor = list(original_list)\n",
        "print(\"\\nCopied (constructor):\", copied_list_constructor, \"id:\", id(copied_list_constructor))\n",
        "print(\"Are original_list and copied_list_constructor the same object?\", original_list is copied_list_constructor)\n",
        "\n",
        "# Method 3: .copy() method\n",
        "copied_list_method = original_list.copy()\n",
        "print(\"\\nCopied (.copy()):\", copied_list_method, \"id:\", id(copied_list_method))\n",
        "print(\"Are original_list and copied_list_method the same object?\", original_list is copied_list_method)\n",
        "\n",
        "# Now, modify one of the copies\n",
        "copied_list_slice[0] = 99\n",
        "print(\"\\nAfter modifying copied_list_slice[0] = 99:\")\n",
        "print(\"Original list:\", original_list) # Should be unchanged\n",
        "print(\"Copied (slice):\", copied_list_slice) # Should show the change"
      ],
      "metadata": {
        "id": "AqiZXQER1V3N"
      },
      "execution_count": null,
      "outputs": []
    },
    {
      "cell_type": "markdown",
      "source": [
        "#### Deep Copy\n",
        "\n",
        "A **deep copy** creates a new object and then recursively copies all objects found within the original. This is necessary when you have nested mutable structures (like a list of lists) and you want the entire structure to be independent.\n",
        "\n",
        "Deep copy requires the `copy` module."
      ],
      "metadata": {
        "id": "xbAMavnd1YWZ"
      }
    },
    {
      "cell_type": "code",
      "source": [
        "import copy # Import the copy module\n",
        "\n",
        "original_nested_list = [1, [2, 3], 4]\n",
        "print(\"Original nested list:\", original_nested_list)\n",
        "\n",
        "# Shallow copy of a nested list\n",
        "shallow_copied_nested_list = original_nested_list.copy()\n",
        "print(\"\\nShallow copied nested list:\", shallow_copied_nested_list)\n",
        "\n",
        "# Deep copy of a nested list\n",
        "deep_copied_nested_list = copy.deepcopy(original_nested_list)\n",
        "print(\"Deep copied nested list:\", deep_copied_nested_list)\n",
        "\n",
        "# Modify an element within the nested list of the shallow copy\n",
        "shallow_copied_nested_list[1][0] = 999\n",
        "print(\"\\nAfter modifying shallow_copied_nested_list[1][0] = 999:\")\n",
        "print(\"Original nested list:\", original_nested_list) # The inner list IS affected\n",
        "print(\"Shallow copied nested list:\", shallow_copied_nested_list)\n",
        "print(\"Deep copied nested list:\", deep_copied_nested_list) # The inner list is NOT affected\n",
        "\n",
        "# Modify an element within the nested list of the deep copy\n",
        "deep_copied_nested_list[1][0] = 777 # This was 999 from the shallow copy's modification if we used that as base\n",
        "                                    # Let's reset the original inner list for clarity on deepcopy effect\n",
        "original_nested_list[1][0] = 2 # Resetting original for next demo\n",
        "deep_copied_nested_list_fresh = copy.deepcopy(original_nested_list)\n",
        "deep_copied_nested_list_fresh[1][0] = 777\n",
        "\n",
        "print(\"\\nAfter resetting original and modifying deep_copied_nested_list_fresh[1][0] = 777:\")\n",
        "print(\"Original nested list:\", original_nested_list) # The inner list is NOT affected\n",
        "print(\"Deep copied nested list (fresh):\", deep_copied_nested_list_fresh)"
      ],
      "metadata": {
        "id": "d6ke2zQo1bYZ"
      },
      "execution_count": null,
      "outputs": []
    },
    {
      "cell_type": "markdown",
      "source": [
        "## Numerical Computing with NumPy\n",
        "\n",
        "For scientific and numerical computing in Python, the fundamental library is **NumPy** (Numerical Python)."
      ],
      "metadata": {
        "id": "0lNUiYiOc4Vl"
      }
    },
    {
      "cell_type": "markdown",
      "source": [
        "### What is NumPy?\n",
        "\n",
        "- NumPy is the fundamental package for scientific computing in Python.\n",
        "- It provides:\n",
        "  - A powerful N-dimensional array object called `ndarray`.\n",
        "  - Sophisticated functions (e.g., for \"broadcasting\").\n",
        "  - Tools for integrating C/C++ and Fortran code.\n",
        "  - Useful linear algebra, Fourier transform, and random number capabilities.\n",
        "- NumPy arrays are the core data structure for many other scientific Python libraries (e.g., SciPy, Pandas, Matplotlib, Scikit-learn).\n",
        "- **Convention:** NumPy is typically imported under the alias `np`."
      ],
      "metadata": {
        "id": "Gtcb6Itlc-ao"
      }
    },
    {
      "cell_type": "code",
      "source": [
        "import numpy as np"
      ],
      "metadata": {
        "id": "YYUOQkgBdBTH"
      },
      "execution_count": null,
      "outputs": []
    },
    {
      "cell_type": "markdown",
      "source": [
        "### Python Lists vs. NumPy Arrays\n",
        "\n",
        "Python lists are general-purpose, flexible containers, while NumPy arrays are specifically designed for efficient numerical operations. Let's look at the key differences:\n",
        "\n",
        "**1. Type Homogeneity:**\n",
        "   - **Python Lists:** Can store elements of different data types (e.g., `[1, \"rock\", 3.14, True]`).\n",
        "   - **NumPy Arrays:** Typically store elements of the **same data type** (e.g., all integers, or all floats). This homogeneity allows for optimized storage and faster operations.\n",
        "\n",
        "**2. Memory Efficiency:**\n",
        "   - **Python Lists:** Each element in a list is a full Python object, and the list itself stores pointers to these objects. This leads to more memory overhead per element.\n",
        "   - **NumPy Arrays:** Store data in a contiguous block of memory. This makes them much more compact, especially for large numerical datasets."
      ],
      "metadata": {
        "id": "APhXP81JdDHI"
      }
    },
    {
      "cell_type": "markdown",
      "source": [
        "**3. Performance for Numerical Operations:**\n",
        "   - **Python Lists:** Operations on numerical data in a list often require explicit Python loops (e.g., a `for` loop to sum two lists element-wise), which can be slow for large amounts of data.\n",
        "   - **NumPy Arrays:** Support **vectorized operations** (element-wise operations). These operations are implemented in C (NumPy's underlying language) and are significantly faster than equivalent Python loops.\n",
        "\n",
        "**4. Functionality:**\n",
        "   - **Python Lists:** Offer basic sequence operations (like `append`, `insert`, `pop`, etc.).\n",
        "   - **NumPy Arrays:** Provide a vast array of mathematical functions, linear algebra routines, random number generation, shape manipulation, and much more, operating directly on arrays."
      ],
      "metadata": {
        "id": "CgWakCC8dFQ8"
      }
    },
    {
      "cell_type": "markdown",
      "source": [
        "#### When to use which?\n",
        "\n",
        "-   Use **Python lists** for:\n",
        "    -   General-purpose collections.\n",
        "    -   When you need to store mixed data types.\n",
        "    -   When you need a data structure that can efficiently grow and shrink dynamically with `append()` or `insert()`.\n",
        "-   Use **NumPy arrays** for:\n",
        "    -   Working with numerical data (integers, floats, complex numbers).\n",
        "    -   Mathematical and linear algebra operations.\n",
        "    -   Large datasets where performance and memory efficiency are critical.\n",
        "    -   As the foundation for other scientific libraries."
      ],
      "metadata": {
        "id": "5eSP45iidHZq"
      }
    },
    {
      "cell_type": "markdown",
      "source": [
        "### Creating NumPy Arrays\n",
        "\n",
        "There are several ways to create NumPy arrays.\n",
        "\n",
        "**1. From Python lists or tuples:**\n",
        "This is the most common way to create an array when your data already exists in a Python structure."
      ],
      "metadata": {
        "id": "KC_gRslbdJmR"
      }
    },
    {
      "cell_type": "code",
      "source": [
        "import numpy as np # Ensure it's imported\n",
        "\n",
        "# From a Python list\n",
        "py_list_int = [1, 2, 3, 4, 5]\n",
        "np_array_from_list = np.array(py_list_int)\n",
        "\n",
        "print(\"Python list:\", py_list_int)\n",
        "print(\"NumPy array from list:\", np_array_from_list)\n",
        "print(\"Type of NumPy array:\", type(np_array_from_list))\n",
        "print(\"Data type (dtype) of the array:\", np_array_from_list.dtype)\n",
        "\n",
        "py_list_float = [1.0, 2.5, 3.14, 4.0]\n",
        "np_array_float = np.array(py_list_float)\n",
        "print(\"\\nNumPy array from list of floats:\", np_array_float)\n",
        "print(\"Data type (dtype) of the float array:\", np_array_float.dtype)\n",
        "\n",
        "# NumPy will try to infer the most appropriate dtype.\n",
        "# If the list contains mixed types that can be upcast (e.g., int and float),\n",
        "# NumPy will promote all elements to the more general type (e.g., float).\n",
        "mixed_list_numeric = [1, 2.5, 3]\n",
        "np_array_mixed = np.array(mixed_list_numeric)\n",
        "print(\"\\nNumPy array from mixed list (int, float):\", np_array_mixed)\n",
        "print(\"Data type (dtype) of the mixed array:\", np_array_mixed.dtype) # Will be float"
      ],
      "metadata": {
        "id": "jWrpHD80dNiX"
      },
      "execution_count": null,
      "outputs": []
    },
    {
      "cell_type": "markdown",
      "source": [
        "**2. Using built-in NumPy functions:**\n",
        "NumPy provides many functions to create arrays with specific values or patterns.\n",
        "\n",
        "- `np.zeros(shape, dtype=float)`: Creates an array filled with zeros. `shape` is a tuple defining dimensions (e.g., `(3,4)` for a 3x4 matrix).\n",
        "- `np.ones(shape, dtype=float)`: Creates an array filled with ones.\n",
        "- `np.full(shape, fill_value, dtype=None)`: Creates an array filled with `fill_value`.\n",
        "- `np.arange(start, stop, step, dtype=None)`: Similar to Python's `range()`, but returns a NumPy array.\n",
        "- `np.linspace(start, stop, num=50, endpoint=True, dtype=None)`: Returns `num` evenly spaced samples over a specified interval `[start, stop]`.\n",
        "- `np.random.rand(d0, d1, ..., dn)`: Creates an array of the given shape and populates it with random samples from a uniform distribution over `[0, 1)`.\n",
        "- `np.random.randn(d0, d1, ..., dn)`: Random samples from a \"standard normal\" distribution.\n",
        "- `np.empty(shape, dtype=float)`: Returns a new array of given shape and type, without initializing entries. (Initial values are unpredictable)."
      ],
      "metadata": {
        "id": "Mhd99WTudYKU"
      }
    },
    {
      "cell_type": "code",
      "source": [
        "# Examples of creating arrays with NumPy functions\n",
        "zeros_array = np.zeros(5) # 1D array of 5 zeros\n",
        "print(\"np.zeros(5):\\n\", zeros_array)\n",
        "\n",
        "ones_matrix = np.ones((2, 3)) # 2x3 matrix of ones\n",
        "print(\"\\nnp.ones((2,3)):\\n\", ones_matrix)\n",
        "\n",
        "full_array = np.full((2, 2), 7.5) # 2x2 matrix filled with 7.5\n",
        "print(\"\\nnp.full((2,2), 7.5):\\n\", full_array)\n",
        "\n",
        "arange_array = np.arange(0, 10, 2) # Numbers from 0 to 8, with step 2\n",
        "print(\"\\nnp.arange(0, 10, 2):\\n\", arange_array)\n",
        "\n",
        "linspace_array = np.linspace(0, 1, 5) # 5 evenly spaced numbers between 0 and 1 (inclusive)\n",
        "print(\"\\nnp.linspace(0, 1, 5):\\n\", linspace_array)\n",
        "\n",
        "random_array = np.random.rand(3, 2) # 3x2 matrix of random numbers between [0,1)\n",
        "print(\"\\nnp.random.rand(3,2):\\n\", random_array)\n",
        "\n",
        "# You can specify the dtype if needed\n",
        "zeros_int_array = np.zeros((2,2), dtype=int)\n",
        "print(\"\\nnp.zeros((2,2), dtype=int):\\n\", zeros_int_array)\n",
        "print(\"dtype:\", zeros_int_array.dtype)"
      ],
      "metadata": {
        "id": "arMJC7Z0dcUM"
      },
      "execution_count": null,
      "outputs": []
    },
    {
      "cell_type": "markdown",
      "source": [
        "### NumPy Array Attributes and Basic Operations\n",
        "\n",
        "NumPy arrays (`ndarray`) have several useful attributes that provide information about the array itself:\n",
        "- `ndarray.ndim`: The number of dimensions (or axes) of the array.\n",
        "- `ndarray.shape`: A tuple of integers indicating the size of the array in each dimension. For a matrix with `n` rows and `m` columns, `shape` will be `(n,m)`.\n",
        "- `ndarray.size`: The total number of elements in the array. Equivalent to the product of the elements of `shape`.\n",
        "- `ndarray.dtype`: An object describing the data type of the elements in the array (e.g., `int64`, `float64`, `bool`).\n",
        "- `ndarray.itemsize`: The size in bytes of each element of the array.\n",
        "- `ndarray.data`: The memory buffer that holds the actual elements of the array. (Usually not accessed directly)."
      ],
      "metadata": {
        "id": "Ymqmggz7deh3"
      }
    },
    {
      "cell_type": "code",
      "source": [
        "# Let's create a 2D example array (a matrix)\n",
        "matrix_example = np.array([[1, 2, 3, 4],\n",
        "                           [5, 6, 7, 8],\n",
        "                           [9, 10, 11, 12]])\n",
        "\n",
        "print(\"Example matrix:\\n\", matrix_example)\n",
        "print(\"ndim (number of dimensions):\", matrix_example.ndim)\n",
        "print(\"shape (array dimensions):\", matrix_example.shape)\n",
        "print(\"size (total number of elements):\", matrix_example.size)\n",
        "print(\"dtype (data type of elements):\", matrix_example.dtype)\n",
        "print(\"itemsize (size in bytes of each element):\", matrix_example.itemsize)\n",
        "\n",
        "# 1D array\n",
        "vector_example = np.arange(5)\n",
        "print(\"\\nVector example:\\n\", vector_example)\n",
        "print(\"ndim:\", vector_example.ndim)\n",
        "print(\"shape:\", vector_example.shape) # Note the tuple (5,) for 1D arrays\n",
        "print(\"size:\", vector_example.size)\n",
        "print(\"dtype:\", vector_example.dtype)"
      ],
      "metadata": {
        "id": "UGIth4a5dgz8"
      },
      "execution_count": null,
      "outputs": []
    },
    {
      "cell_type": "markdown",
      "source": [
        "#### Vectorized (Element-wise) Operations\n",
        "\n",
        "One of NumPy's most powerful features is its ability to perform mathematical operations directly on entire arrays, applying the operation to each element individually (element-wise). This is much more efficient than iterating over elements with a Python `for` loop."
      ],
      "metadata": {
        "id": "Sqh_rDbqdi88"
      }
    },
    {
      "cell_type": "code",
      "source": [
        "a = np.array([1, 2, 3, 4])\n",
        "b = np.array([10, 20, 30, 40])\n",
        "\n",
        "print(\"Array a:\", a)\n",
        "print(\"Array b:\", b)\n",
        "\n",
        "# Element-wise addition\n",
        "sum_ab = a + b\n",
        "print(\"\\na + b  =\", sum_ab)\n",
        "\n",
        "# Element-wise subtraction\n",
        "diff_ab = b - a\n",
        "print(\"b - a  =\", diff_ab)\n",
        "\n",
        "# Element-wise multiplication\n",
        "prod_ab = a * b\n",
        "print(\"a * b  =\", prod_ab)\n",
        "\n",
        "# Element-wise division\n",
        "div_ba = b / a\n",
        "print(\"b / a  =\", div_ba)\n",
        "\n",
        "# Operations with a scalar\n",
        "mult_scalar = a * 2\n",
        "print(\"\\na * 2  =\", mult_scalar)\n",
        "\n",
        "exp_scalar = a ** 2 # a squared, element-wise\n",
        "print(\"a ** 2 =\", exp_scalar)\n",
        "\n",
        "# NumPy universal functions (ufuncs)\n",
        "sqrt_a = np.sqrt(a) # Element-wise square root\n",
        "print(\"\\nnp.sqrt(a) =\", sqrt_a)\n",
        "\n",
        "exp_a = np.exp(a) # Element-wise exponential e^x\n",
        "print(\"np.exp(a)  =\", exp_a)\n",
        "\n",
        "# Comparison with Python lists:\n",
        "list_a = [1, 2, 3, 4]\n",
        "list_b = [10, 20, 30, 40]\n",
        "\n",
        "# list_a + list_b does NOT perform element-wise addition, but concatenation!\n",
        "print(\"\\nPython list concatenation: list_a + list_b =\", list_a + list_b)\n",
        "\n",
        "# To do element-wise addition with lists, you'd need a loop:\n",
        "sum_lists_manual = []\n",
        "for i in range(len(list_a)):\n",
        "    sum_lists_manual.append(list_a[i] + list_b[i])\n",
        "print(\"Manual element-wise sum of Python lists:\", sum_lists_manual)\n",
        "# Clearly less concise and much slower for large arrays compared to NumPy!"
      ],
      "metadata": {
        "id": "c8TlKeZ6dlMA"
      },
      "execution_count": null,
      "outputs": []
    },
    {
      "cell_type": "markdown",
      "source": [
        "### Quick Comparison Summary: Python Lists vs. NumPy Arrays\n",
        "\n",
        "| Feature                 | Python List                  | NumPy Array                     |\n",
        "|-------------------------|------------------------------|---------------------------------|\n",
        "| Data Types              | Heterogeneous                | Homogeneous (typically)         |\n",
        "| Memory                  | Higher overhead per element  | More compact, contiguous        |\n",
        "| Numerical Operations    | Slow (Python loops)          | Fast (Vectorized, C-based)      |\n",
        "| Functionality           | Basic sequence operations    | Rich mathematical functions     |\n",
        "| Flexibility             | High (dynamic add/remove)    | Less flexible (fixed-size)*     |\n",
        "| Primary Use             | General purpose              | Numerical computation           |\n",
        "\n",
        "<br>\n",
        "*NumPy arrays are generally fixed-size once created. Although functions exist to resize or concatenate, these often involve creating new arrays.*"
      ],
      "metadata": {
        "id": "rlyYbnuydoar"
      }
    },
    {
      "cell_type": "markdown",
      "source": [
        "## Visualizing Data with Matplotlib\n",
        "\n",
        "**Matplotlib** is the primary Python library for creating static, animated, and interactive visualizations in Python. For most common plotting tasks, we use the `pyplot` interface, which provides a MATLAB-like way of plotting."
      ],
      "metadata": {
        "id": "MO_iqBaiedh1"
      }
    },
    {
      "cell_type": "markdown",
      "source": [
        "### Basic Usage\n",
        "\n",
        "The typical workflow involves:\n",
        "1. Importing `matplotlib.pyplot` (usually as `plt`).\n",
        "2. Preparing your data (often as Python lists or NumPy arrays).\n",
        "3. Using `plt.plot()` to create the plot.\n",
        "4. Adding labels, titles, and other customizations.\n",
        "5. Using `plt.show()` to display the plot."
      ],
      "metadata": {
        "id": "j_Rron7_eih3"
      }
    },
    {
      "cell_type": "code",
      "source": [
        "import matplotlib.pyplot as plt\n",
        "import numpy as np # We'll use numpy for more advanced examples\n",
        "\n",
        "# Simple data using Python lists\n",
        "x_simple = [0, 1, 2, 3, 4]\n",
        "y_simple = [0, 1, 4, 9, 16] # y = x^2\n",
        "\n",
        "plt.figure(figsize=(6,4)) # Optional: sets the figure size\n",
        "plt.plot(x_simple, y_simple, marker='o') # 'marker=\"o\"' adds circles at data points\n",
        "plt.xlabel(\"Time (s)\")\n",
        "plt.ylabel(\"Value (units)\")\n",
        "plt.title(\"Simple Plot Example\")\n",
        "plt.grid(True) # Adds a grid for better readability\n",
        "plt.show()"
      ],
      "metadata": {
        "id": "6OwTIGdQek1Q"
      },
      "execution_count": null,
      "outputs": []
    },
    {
      "cell_type": "markdown",
      "source": [
        "### Plotting ODE Solutions with NumPy and Matplotlib\n",
        "\n",
        "Let's visualize the analytical solution of Newton's cooling equation:\n",
        "\\[ T(t) = T_a + (T_0 - T_a) e^{-kt} \\]\n",
        "where:\n",
        "- $T(t)$ is the temperature at time $t$\n",
        "- $T_a$ is the ambient temperature\n",
        "- $T_0$ is the initial temperature of the body\n",
        "- $k$ is the cooling constant"
      ],
      "metadata": {
        "id": "kOKn-jCaeomK"
      }
    },
    {
      "cell_type": "code",
      "source": [
        "import numpy as np\n",
        "import matplotlib.pyplot as plt\n",
        "\n",
        "# Parameters for the cooling equation\n",
        "T_a = 20  # Ambient temperature (°C)\n",
        "T_0 = 90  # Initial temperature of the body (°C)\n",
        "k = 0.1   # Cooling constant (1/min)\n",
        "\n",
        "# Time vector: from 0 to 60 minutes, with 300 points for a smooth curve\n",
        "t_values = np.linspace(0, 60, 300)\n",
        "\n",
        "# Analytical solution for temperature\n",
        "T_analytical = T_a + (T_0 - T_a) * np.exp(-k * t_values)\n",
        "\n",
        "# Plotting\n",
        "plt.figure(figsize=(8, 5))\n",
        "plt.plot(t_values, T_analytical, label='Analytical Solution')\n",
        "plt.xlabel(\"Time (minutes)\")\n",
        "plt.ylabel(\"Temperature (°C)\")\n",
        "plt.title(\"Cooling of a Body (Newton's Law)\")\n",
        "plt.axhline(T_a, color='red', linestyle='--', linewidth=0.8, label=f'Ambient Temp ({T_a}°C)') # Plot ambient temp\n",
        "plt.grid(True)\n",
        "plt.legend()\n",
        "plt.show()"
      ],
      "metadata": {
        "id": "P69Dq7o0fADD"
      },
      "execution_count": null,
      "outputs": []
    },
    {
      "cell_type": "markdown",
      "source": [
        "### Elements of a Matplotlib Plot\n",
        "\n",
        "A basic plot can contain several customizable elements:\n",
        "\n",
        "- `plt.figure(figsize=(width, height))`: Creates a new figure and can set its size.\n",
        "- `plt.plot(x, y, label='series_name', color='blue', linestyle='-', marker='o')`: Plots a line or data series.\n",
        "  - `label`: Used by `plt.legend()`.\n",
        "  - `color`: Sets the line color.\n",
        "  - `linestyle`: e.g., `'-'`, `'--'`, `':'`, `'-.'`.\n",
        "  - `marker`: e.g., `'o'`, `'.'`, `'x'`, `'s'`.\n",
        "- `plt.xlabel(\"X-axis Label\")` and `plt.ylabel(\"Y-axis Label\")`: Set axis labels.\n",
        "- `plt.title(\"Plot Title\")`: Adds a title to the plot.\n",
        "- `plt.grid(True)` or `plt.grid(axis='y')`: Adds a background grid.\n",
        "- `plt.legend()`: Shows labels for multiple data series (if `label` was specified in `plot`).\n",
        "- `plt.xlim(min_val, max_val)` and `plt.ylim(min_val, max_val)`: Set limits for x and y axes.\n",
        "- `plt.axhline(y_val, ...)` and `plt.axvline(x_val, ...)`: Draw horizontal/vertical lines.\n",
        "- `plt.savefig(\"filename.png\")`: Saves the figure to a file.\n",
        "- `plt.show()`: Displays the figure. In Jupyter notebooks, plots often display automatically after the cell executes, but `plt.show()` ensures it and can clear the current figure state for subsequent plots.\n",
        "\n",
        "Plotting helps to:\n",
        "- Understand model behavior.\n",
        "- Compare analytical and numerical solutions.\n",
        "- Identify errors or unexpected results.\n",
        "- Communicate findings effectively."
      ],
      "metadata": {
        "id": "cl9mVEOYfC9J"
      }
    },
    {
      "cell_type": "markdown",
      "source": [
        "## Numerical Solutions for Differential Equations\n",
        "\n",
        "### Why Numerical Solutions?\n",
        "\n",
        "- In some cases, we can find **analytical (or exact) solutions** to differential equations (like the simple cooling or radioactive decay examples). These are formulas that give the solution $y(t)$ for any time $t$.\n",
        "- **However, most real-world problems involving differential equations do not admit an analytical solution.** The equations might be too complex, non-linear, or involve complicated boundary/initial conditions.\n",
        "- Even when analytical solutions exist, they might be too intricate to handle or not directly useful for computation.\n",
        "- **Numerical methods** provide a way to approximate solutions at discrete points in time (or space). Instead of a continuous formula, we get a set of values $(t_n, y_n)$ that approximate the true solution.\n",
        "- Our goal is to find practical methods to approximate the solution of ODEs, starting with the radioactive decay example."
      ],
      "metadata": {
        "id": "p3e3V_GYfFG6"
      }
    },
    {
      "cell_type": "markdown",
      "source": [
        "### Numerical Solution of Radioactive Decay: Deriving the Explicit Euler Method\n",
        "\n",
        "**1. The Continuous Equation (ODE):**\n",
        "The radioactive decay process is described by the first-order ODE:\n",
        "\\[ \\frac{dN}{dt} = -\\lambda N(t) \\]\n",
        "where:\n",
        "- $N(t)$ is the number of radioactive atoms at time $t$.\n",
        "- $\\lambda$ is the decay constant.\n",
        "\n",
        "**2. Discretize Time:**\n",
        "We want to find approximate values of $N$ at discrete time points:\n",
        "$t_0, t_1, t_2, \\dots, t_k, \\dots$\n",
        "Let $\\Delta t$ be a small, constant time step, so $t_{n+1} = t_n + \\Delta t$.\n",
        "We denote $N^n \\approx N(t_n)$ as the numerical approximation of $N$ at time $t_n$.\n",
        "\n",
        "**3. Approximate the Derivative:**\n",
        "The core idea of many numerical methods is to replace the derivative $\\frac{dN}{dt}$ with a finite difference approximation. The simplest is the **forward difference**:\n",
        "\\[ \\frac{dN}{dt} \\bigg|_{t=t_n} \\approx \\frac{N(t_{n+1}) - N(t_n)}{\\Delta t} \\approx \\frac{N^{n+1} - N^n}{\\Delta t} \\]\n",
        "This approximation becomes more accurate as $\\Delta t \\to 0$.\n",
        "\n",
        "**4. Substitute into the ODE:**\n",
        "Replace the derivative in the ODE with this finite difference approximation, evaluating the right-hand side ($-\\lambda N$) at time $t_n$:\n",
        "\\[ \\frac{N^{n+1} - N^n}{\\Delta t} = -\\lambda N^n \\]"
      ],
      "metadata": {
        "id": "nngK-OozfHa0"
      }
    },
    {
      "cell_type": "markdown",
      "source": [
        "**5. Rearrange to Solve for $N^{n+1}$:**\n",
        "Our goal is to find a formula to step from $N^n$ (known value at time $t_n$) to $N^{n+1}$ (unknown value at time $t_{n+1}$).\n",
        "\\begin{align*}\n",
        "N^{n+1} - N^n &= -(\\lambda N^n) \\Delta t \\\\\n",
        "N^{n+1} &= N^n - \\lambda \\Delta t N^n \\\\\n",
        "N^{n+1} &= N^n (1 - \\lambda \\Delta t)\n",
        "\\end{align*}\n",
        "\n",
        "This is the update rule for the **Explicit Euler method** (also known as the Forward Euler method) applied to the radioactive decay equation.\n",
        "\n",
        "**Summary of the Explicit Euler Method for $dN/dt = -\\lambda N$:**\n",
        "- **Initial condition:** $N^0 = N_0$ (the known starting value at $t_0$).\n",
        "- **Update formula (iteration):** For $n = 0, 1, 2, \\dots$:\n",
        "  \\[ N^{n+1} = N^n (1 - \\lambda \\Delta t) \\]\n",
        "- We iterate this formula to compute $N^1, N^2, N^3, \\dots$ step by step."
      ],
      "metadata": {
        "id": "nThhxUNKfJgs"
      }
    },
    {
      "cell_type": "code",
      "source": [
        "import numpy as np\n",
        "import matplotlib.pyplot as plt\n",
        "\n",
        "# Parameters for radioactive decay\n",
        "lambda_decay = 0.1  # Decay constant (e.g., 1/year)\n",
        "N0 = 100           # Initial number of atoms\n",
        "T_max = 50         # Total time to simulate (e.g., years)\n",
        "dt = 1.0           # Time step (e.g., year)\n",
        "\n",
        "# Time vector\n",
        "time_points = np.arange(0, T_max + dt, dt) # Ensure T_max is included\n",
        "\n",
        "# Initialize array for numerical solution\n",
        "N_euler = np.zeros_like(time_points)\n",
        "N_euler[0] = N0 # Set initial condition\n",
        "\n",
        "# Euler method iteration\n",
        "for n in range(len(time_points) - 1):\n",
        "    N_euler[n+1] = N_euler[n] * (1 - lambda_decay * dt)\n",
        "\n",
        "# Plotting the numerical solution\n",
        "plt.figure(figsize=(8, 5))\n",
        "plt.plot(time_points, N_euler, 'o--', label=f'Euler Approximation (dt={dt})') # 'o--' for markers and dashed line\n",
        "plt.xlabel('Time')\n",
        "plt.ylabel('N(t) - Number of Atoms')\n",
        "plt.title('Numerical Solution of Radioactive Decay (Explicit Euler)')\n",
        "plt.grid(True)\n",
        "plt.legend()\n",
        "plt.show()\n",
        "\n",
        "# Note: This is purely a numerical result, not yet compared to the exact solution."
      ],
      "metadata": {
        "id": "irpOWmQUfM6Z"
      },
      "execution_count": null,
      "outputs": []
    },
    {
      "cell_type": "markdown",
      "source": [
        "### Exercise: Effect of a Larger Time Step (Explicit Euler)\n",
        "\n",
        "Let's observe what happens if we use a larger time step `dt` with the Explicit Euler method.\n",
        "The stability of the Explicit Euler method for this problem ($dN/dt = -\\lambda N$) is conditional. It requires $1 - \\lambda \\Delta t$ to be greater than -1 for non-oscillatory decay, and greater than 0 to avoid negative (unphysical) values.\n",
        "Specifically, for simple decay to positive values, we need $1 - \\lambda \\Delta t \\ge 0 \\implies \\Delta t \\le 1/\\lambda$.\n",
        "If $1 - \\lambda \\Delta t < 0$ (i.e., $\\Delta t > 1/\\lambda$), the solution will oscillate and can become negative.\n",
        "If $1 - \\lambda \\Delta t < -1$ (i.e., $\\Delta t > 2/\\lambda$), the solution will oscillate with increasing amplitude."
      ],
      "metadata": {
        "id": "n6I6iR14fQ17"
      }
    },
    {
      "cell_type": "code",
      "source": [
        "# Parameters (same N0, lambda_decay, T_max)\n",
        "# lambda_decay = 0.1\n",
        "# N0 = 100\n",
        "# T_max = 50\n",
        "\n",
        "# Try a larger time step, e.g., dt > 1/lambda_decay (1/0.1 = 10)\n",
        "dt_large = 15.0 # This is > 1/lambda_decay\n",
        "\n",
        "time_points_large_dt = np.arange(0, T_max + dt_large, dt_large)\n",
        "\n",
        "N_euler_large_dt = np.zeros_like(time_points_large_dt)\n",
        "N_euler_large_dt[0] = N0\n",
        "\n",
        "for n in range(len(time_points_large_dt) - 1):\n",
        "    N_euler_large_dt[n+1] = N_euler_large_dt[n] * (1 - lambda_decay * dt_large)\n",
        "\n",
        "# Plotting\n",
        "plt.figure(figsize=(8, 5))\n",
        "plt.plot(time_points_large_dt, N_euler_large_dt, 'o--', label=f'Euler (dt={dt_large})')\n",
        "plt.xlabel('Time')\n",
        "plt.ylabel('N(t)')\n",
        "plt.title(f'Explicit Euler with Larger Time Step (dt={dt_large}, lambda={lambda_decay})')\n",
        "plt.axhline(0, color='black', linestyle='-', linewidth=0.7) # Zero line\n",
        "plt.grid(True)\n",
        "plt.legend()\n",
        "plt.show()\n",
        "\n",
        "# What happens to the solution? Does it remain physically meaningful?\n",
        "# For lambda_decay = 0.1, the stability limit for non-negative values is dt <= 1/0.1 = 10.\n",
        "# For dt = 15, (1 - 0.1 * 15) = 1 - 1.5 = -0.5. The solution will oscillate and become negative."
      ],
      "metadata": {
        "id": "ik055yaIfTnj"
      },
      "execution_count": null,
      "outputs": []
    },
    {
      "cell_type": "markdown",
      "source": [
        "### Numerical Instability for Large $\\Delta t$\n",
        "\n",
        "- When $\\Delta t$ is too large for the Explicit Euler method, $N(t)$ can become negative or oscillate wildly.\n",
        "- This is clearly non-physical: the amount of radioactive material cannot be less than zero.\n",
        "- The update rule $N^{n+1} = N^n (1 - \\lambda \\Delta t)$ becomes unstable if the factor $(1 - \\lambda \\Delta t)$ causes unphysical behavior.\n",
        "  - If $1 - \\lambda \\Delta t < 0$ (i.e., $\\Delta t > 1/\\lambda$), $N^{n+1}$ will have the opposite sign of $N^n$ if $N^n$ is positive, leading to oscillations and negative values.\n",
        "- This observation leads us to the crucial concept of **numerical stability** of a scheme."
      ],
      "metadata": {
        "id": "j_1OOz1DfVt_"
      }
    },
    {
      "cell_type": "markdown",
      "source": [
        "### Interpreting the Explicit Euler Scheme\n",
        "\n",
        "What does the discretization $N^{n+1} = N^n - \\lambda \\Delta t N^n$ actually mean?\n",
        "\n",
        "- Recall the ODE: $\\frac{dN}{dt} = -\\lambda N(t)$. The term $-\\lambda N(t)$ is the **rate of change** of $N$.\n",
        "- The Explicit Euler method approximates the change in $N$ over the interval $[t^n, t^{n+1}]$ by assuming the rate of change is **constant** throughout this interval and equal to its value at the **beginning** of the interval, i.e., $-\\lambda N^n$.\n",
        "- So, $\\Delta N \\approx (\\text{rate at } t^n) \\times \\Delta t = (-\\lambda N^n) \\Delta t$.\n",
        "- This is equivalent to a first-order Taylor expansion or approximating the integral:\n",
        "  \\[ N(t^{n+1}) = N(t^n) + \\int_{t^n}^{t^{n+1}} \\frac{dN}{dt} dt \\]\n",
        "  Using the Left Rectangle Rule for the integral (evaluating the integrand at the left endpoint $t^n$):\n",
        "  \\[ N(t^{n+1}) \\approx N(t^n) + \\left( \\frac{dN}{dt} \\bigg|_{t=t^n} \\right) \\Delta t = N^n + (-\\lambda N^n) \\Delta t \\]\n",
        "- This is a *first-order approximation* in terms of accuracy (error is proportional to $\\Delta t$)."
      ],
      "metadata": {
        "id": "muxZ2UaEfXtB"
      }
    },
    {
      "cell_type": "markdown",
      "source": [
        "### An Alternative Assumption: The Implicit (Backward) Euler Method\n",
        "\n",
        "What if we make a different assumption for the constant rate over the interval $[t^n, t^{n+1}]$?\n",
        "Suppose we assume the rate of change is constant and equal to its value at the **end** of the interval, i.e., $-\\lambda N^{n+1}$?\n",
        "\n",
        "This leads to:\n",
        "\\[ \\frac{N^{n+1} - N^n}{\\Delta t} = -\\lambda N^{n+1} \\]\n",
        "\n",
        "Now, $N^{n+1}$ (the unknown we are solving for) appears on both sides of the equation. This makes the method **implicit**.\n",
        "\n",
        "Rearranging to solve for $N^{n+1}$:\n",
        "\\begin{align*}\n",
        "N^{n+1} - N^n &= -(\\lambda N^{n+1}) \\Delta t \\\\\n",
        "N^{n+1} + \\lambda \\Delta t N^{n+1} &= N^n \\\\\n",
        "N^{n+1} (1 + \\lambda \\Delta t) &= N^n \\\\\n",
        "N^{n+1} &= \\frac{N^n}{1 + \\lambda \\Delta t}\n",
        "\\end{align*}\n",
        "\n",
        "This is the update rule for the **Implicit Euler method** (also known as Backward Euler).\n",
        "\n",
        "**Key features of Implicit Euler for this problem:**\n",
        "- It's still a first-order accurate method.\n",
        "- For this specific decay problem, it is **unconditionally stable**: it will produce physically meaningful (non-negative, non-oscillatory) solutions for any $\\Delta t > 0$."
      ],
      "metadata": {
        "id": "27eLU1uRfZ3k"
      }
    },
    {
      "cell_type": "code",
      "source": [
        "import numpy as np\n",
        "import matplotlib.pyplot as plt\n",
        "\n",
        "# Parameters (can be the same as before, or try different ones)\n",
        "lambda_decay = 0.1  # Decay constant\n",
        "N0 = 100           # Initial number of atoms\n",
        "T_max = 50         # Total time to simulate\n",
        "# dt_implicit = 1.0  # Time step (try varying this, e.g., dt_implicit = 15.0 like the unstable explicit case)\n",
        "dt_implicit = 15.0 # Using the same large dt that was unstable for explicit Euler\n",
        "\n",
        "time_points_implicit = np.arange(0, T_max + dt_implicit, dt_implicit)\n",
        "\n",
        "# Initialize array for numerical solution\n",
        "N_implicit = np.zeros_like(time_points_implicit)\n",
        "N_implicit[0] = N0 # Set initial condition\n",
        "\n",
        "# Implicit Euler method iteration\n",
        "for n in range(len(time_points_implicit) - 1):\n",
        "    N_implicit[n+1] = N_implicit[n] / (1 + lambda_decay * dt_implicit)\n",
        "\n",
        "# Plotting the numerical solution\n",
        "plt.figure(figsize=(8, 5))\n",
        "plt.plot(time_points_implicit, N_implicit, 's-', label=f'Implicit Euler (dt={dt_implicit})') # 's-' for square markers\n",
        "plt.xlabel('Time')\n",
        "plt.ylabel('N(t) - Number of Atoms')\n",
        "plt.title(f'Numerical Solution of Radioactive Decay (Implicit Euler, dt={dt_implicit})')\n",
        "plt.axhline(0, color='black', linestyle='-', linewidth=0.7) # Zero line\n",
        "plt.grid(True)\n",
        "plt.legend()\n",
        "plt.show()\n",
        "\n",
        "# Notice that even with a large dt, the implicit Euler method remains stable and non-negative."
      ],
      "metadata": {
        "id": "q4mKCqxifcUs"
      },
      "execution_count": null,
      "outputs": []
    },
    {
      "cell_type": "code",
      "source": [
        "import numpy as np\n",
        "import matplotlib.pyplot as plt\n",
        "\n",
        "# Parameters\n",
        "lambda_decay = 0.1\n",
        "N0 = 100\n",
        "T_max = 50\n",
        "# Let's use a dt that might show differences clearly, but still stable for explicit\n",
        "dt_compare = 5.0 # 1/lambda_decay = 10. dt_compare < 10, so explicit should be okay.\n",
        "\n",
        "time_c = np.arange(0, T_max + dt_compare, dt_compare)\n",
        "time_analytical_fine = np.linspace(0, T_max, 500) # Finer time for smooth analytical curve\n",
        "\n",
        "# 1. Analytical Solution\n",
        "N_analytical_c = N0 * np.exp(-lambda_decay * time_analytical_fine)\n",
        "\n",
        "# 2. Explicit Euler\n",
        "N_explicit_c = np.zeros_like(time_c)\n",
        "N_explicit_c[0] = N0\n",
        "for n in range(len(time_c) - 1):\n",
        "    N_explicit_c[n+1] = N_explicit_c[n] * (1 - lambda_decay * dt_compare)\n",
        "\n",
        "# 3. Implicit Euler\n",
        "N_implicit_c = np.zeros_like(time_c)\n",
        "N_implicit_c[0] = N0\n",
        "for n in range(len(time_c) - 1):\n",
        "    N_implicit_c[n+1] = N_implicit_c[n] / (1 + lambda_decay * dt_compare)\n",
        "\n",
        "# Plotting\n",
        "plt.figure(figsize=(10, 6))\n",
        "plt.plot(time_analytical_fine, N_analytical_c, 'k-', label='Analytical Solution', linewidth=2)\n",
        "plt.plot(time_c, N_explicit_c, 'o--', label=f'Explicit Euler (dt={dt_compare})', markersize=6)\n",
        "plt.plot(time_c, N_implicit_c, 's:', label=f'Implicit Euler (dt={dt_compare})', markersize=6)\n",
        "\n",
        "plt.xlabel('Time')\n",
        "plt.ylabel('N(t)')\n",
        "plt.title(f'Comparison of Numerical Methods for Radioactive Decay (dt={dt_compare})')\n",
        "plt.grid(True)\n",
        "plt.legend()\n",
        "plt.show()"
      ],
      "metadata": {
        "id": "k9-c_l8nffW2"
      },
      "execution_count": null,
      "outputs": []
    },
    {
      "cell_type": "markdown",
      "source": [
        "### Definition of Error\n",
        "\n",
        "How can we assess the quality of a numerical solution? We compare the numerical solution $N^n_{\\text{num}}$ with the exact (analytical) solution $N(t_n)$ at the same time points $t_n$.\n",
        "\n",
        "**Pointwise Absolute Error** at time $t_n$:\n",
        "\\[ \\varepsilon_n = |N^n_{\\text{num}} - N(t_n)| \\]\n",
        "Sometimes the signed error $N^n_{\\text{num}} - N(t_n)$ is also considered.\n",
        "\n",
        "**Global Error:** Often, we are interested in a measure of the error over the entire simulation, like the maximum pointwise error or an average error. For example, the maximum absolute error up to time $T$:\n",
        "\\[ E_{\\text{max}} = \\max_{0 \\le n \\le T/\\Delta t} |\\varepsilon_n| \\]\n",
        "\n",
        "- If the error is small, the numerical solution is a good approximation.\n",
        "- If it grows over time or becomes large, the time step or the numerical method itself may need adjustment or re-evaluation.\n",
        "\n",
        "The error generally depends on:\n",
        "- The time step size $\\Delta t$.\n",
        "- The numerical method used (its order of accuracy).\n",
        "- The regularity (smoothness) of the true solution."
      ],
      "metadata": {
        "id": "Rafg-ymsfhoA"
      }
    },
    {
      "cell_type": "code",
      "source": [
        "import numpy as np\n",
        "import matplotlib.pyplot as plt\n",
        "\n",
        "# Parameters for the radioactive decay problem\n",
        "lambda_decay_error = 0.5  # Decay constant\n",
        "N0_error = 100           # Initial number of atoms\n",
        "T_max_error = 10         # Total time to simulate\n",
        "dt_error = 1.0           # Time step\n",
        "\n",
        "# Time vector\n",
        "time_points_error = np.arange(0, T_max_error + dt_error, dt_error)\n",
        "\n",
        "# 1. Analytical (Exact) Solution\n",
        "N_exact_error = N0_error * np.exp(-lambda_decay_error * time_points_error)\n",
        "\n",
        "# 2. Numerical Solution (Explicit Euler method)\n",
        "N_numerical_euler = np.zeros_like(time_points_error)\n",
        "N_numerical_euler[0] = N0_error # Set initial condition\n",
        "\n",
        "for n in range(len(time_points_error) - 1): # Iterate up to len-1 to calculate N[n+1]\n",
        "    N_numerical_euler[n+1] = N_numerical_euler[n] * (1 - lambda_decay_error * dt_error)\n",
        "    # Or, more explicitly for clarity in this step:\n",
        "    # N_numerical_euler[n+1] = N_numerical_euler[n] - lambda_decay_error * N_numerical_euler[n] * dt_error\n",
        "\n",
        "\n",
        "# 3. Compute the absolute error\n",
        "absolute_error = np.abs(N_exact_error - N_numerical_euler)\n",
        "\n",
        "# 4. Plot the error\n",
        "plt.figure(figsize=(8, 5))\n",
        "plt.plot(time_points_error, absolute_error, 'r-o', label=f'Absolute Error (dt={dt_error})')\n",
        "plt.xlabel('Time')\n",
        "plt.ylabel('Absolute Error |N_exact - N_numerical|')\n",
        "plt.title('Error of Explicit Euler Method for Radioactive Decay')\n",
        "plt.legend()\n",
        "plt.grid(True)\n",
        "plt.show()\n",
        "\n",
        "# You can also print the error values\n",
        "# print(\"Time points:\", time_points_error)\n",
        "# print(\"Exact solution:\", N_exact_error)\n",
        "# print(\"Numerical solution (Euler):\", N_numerical_euler)\n",
        "# print(\"Absolute error:\", absolute_error)"
      ],
      "metadata": {
        "id": "yrn28Z_6iLO9"
      },
      "execution_count": null,
      "outputs": []
    },
    {
      "cell_type": "markdown",
      "source": [
        "#### Experimenting with Error\n",
        "Try changing the `dt_error` value in the cell above (e.g., to `0.5`, `0.1`) and re-run it. How does the magnitude of the error change? This demonstrates how the error in the Explicit Euler method typically decreases as the time step $\\Delta t$ decreases."
      ],
      "metadata": {
        "id": "Kt2XNQM2iNZw"
      }
    },
    {
      "cell_type": "markdown",
      "source": [
        "### Relative Error\n",
        "\n",
        "While absolute error, $|N_{\\text{exact}}(t) - N_{\\text{numerical}}(t)|$, tells us the magnitude of the discrepancy, it might not always give the full picture, especially when the true value $N_{\\text{exact}}(t)$ varies significantly.\n",
        "\n",
        "**Why consider relative error?**\n",
        "\n",
        "- The **absolute error** is defined as:\n",
        "  $$ \\varepsilon_{\\text{abs}}(t) = |N_{\\text{exact}}(t) - N_{\\text{numerical}}(t)| $$\n",
        "- The **relative error** is defined as:\n",
        "  $$ \\varepsilon_{\\text{rel}}(t) = \\frac{|N_{\\text{exact}}(t) - N_{\\text{numerical}}(t)|}{|N_{\\text{exact}}(t)|} $$\n",
        "  (This is undefined if $N_{\\text{exact}}(t) = 0$).\n",
        "\n",
        "- Relative error is often more informative when:\n",
        "  - The quantity of interest $N_{\\text{exact}}(t)$ becomes very small. An absolute error of 0.1 might be insignificant if $N_{\\text{exact}}(t) = 100$, but very significant if $N_{\\text{exact}}(t) = 0.2$.\n",
        "  - We want to assess the error as a proportion or percentage of the expected value.\n",
        "- For example, in radioactive decay, $N(t)$ tends towards 0. As $N_{\\text{exact}}(t)$ approaches zero, the absolute error might also become small, but the relative error can reveal if the numerical solution is deviating significantly in proportional terms."
      ],
      "metadata": {
        "id": "JkwNfW7GpbaN"
      }
    },
    {
      "cell_type": "markdown",
      "source": [
        "### Plotting the Relative Error in Python\n",
        "\n",
        "Let's continue with the previous example (Explicit Euler for radioactive decay) and compute and plot the relative error. We need to be careful when $N_{\\text{exact}}(t)$ is zero or very close to zero to avoid division by zero or extremely large relative error values due to machine precision."
      ],
      "metadata": {
        "id": "6DvyaIBlpdUp"
      }
    },
    {
      "cell_type": "code",
      "source": [
        "import numpy as np\n",
        "import matplotlib.pyplot as plt\n",
        "\n",
        "# We'll use the same parameters and solutions from the absolute error example\n",
        "# If you are running this cell independently, uncomment and run the setup below:\n",
        "#\n",
        "# Parameters for the radioactive decay problem\n",
        "# lambda_decay_error = 0.5  # Decay constant\n",
        "# N0_error = 100           # Initial number of atoms\n",
        "# T_max_error = 10         # Total time to simulate\n",
        "# dt_error = 1.0           # Time step\n",
        "#\n",
        "# Time vector\n",
        "# time_points_error = np.arange(0, T_max_error + dt_error, dt_error)\n",
        "#\n",
        "# 1. Analytical (Exact) Solution\n",
        "# N_exact_error = N0_error * np.exp(-lambda_decay_error * time_points_error)\n",
        "#\n",
        "# 2. Numerical Solution (Explicit Euler method)\n",
        "# N_numerical_euler = np.zeros_like(time_points_error)\n",
        "# N_numerical_euler[0] = N0_error # Set initial condition\n",
        "# for n in range(len(time_points_error) - 1):\n",
        "#     N_numerical_euler[n+1] = N_numerical_euler[n] * (1 - lambda_decay_error * dt_error)\n",
        "#\n",
        "# Ensure N_exact_error and N_numerical_euler are defined from a previous cell if not re-running setup.\n",
        "# For safety, we can check:\n",
        "if 'N_exact_error' not in globals() or 'N_numerical_euler' not in globals():\n",
        "    print(\"Error: N_exact_error or N_numerical_euler not defined. Please run the previous error calculation cell.\")\n",
        "else:\n",
        "    # 3. Compute the relative error\n",
        "    # We need to handle cases where N_exact_error might be zero to avoid division by zero.\n",
        "    # A common approach is to add a very small number (epsilon) to the denominator,\n",
        "    # or to set relative error to 0 or a large number where N_exact is zero.\n",
        "\n",
        "    # Calculate absolute difference first\n",
        "    abs_diff = np.abs(N_exact_error - N_numerical_euler)\n",
        "\n",
        "    # Calculate relative error, handling potential division by zero\n",
        "    # We create a copy of N_exact_error to avoid modifying it if we were to add epsilon\n",
        "    denominator = np.abs(N_exact_error)\n",
        "    relative_error = np.zeros_like(denominator) # Initialize with zeros\n",
        "\n",
        "    # Calculate relative error only where the denominator is not too small\n",
        "    # A common threshold for \"too small\" could be machine epsilon or a small fraction of N0\n",
        "    small_threshold = 1e-9 * N0_error # Or np.finfo(float).eps\n",
        "\n",
        "    non_zero_mask = denominator > small_threshold\n",
        "    relative_error[non_zero_mask] = abs_diff[non_zero_mask] / denominator[non_zero_mask]\n",
        "\n",
        "    # For cases where exact solution is very small or zero, relative error can be misleading or undefined.\n",
        "    # If N_exact is truly zero and N_numerical is also zero, error is 0.\n",
        "    # If N_exact is zero and N_numerical is not, relative error is infinite.\n",
        "    # Here, if N_exact_error was zero (or very small), the mask handles it.\n",
        "    # The slide's approach: rel_error[N_exact == 0] = 0 assumes if exact is 0, num is also 0 or error isn't critical.\n",
        "    # Let's refine based on the slide's simplicity for N_exact == 0:\n",
        "    if np.any(N_exact_error == 0): # If there are any exact zeros\n",
        "        # Recompute with the slide's direct approach for those specific points\n",
        "        # This is mostly for didactic purposes, the threshold approach is often more robust.\n",
        "        exact_zeros_mask = (N_exact_error == 0)\n",
        "        relative_error_slide_approach = np.copy(relative_error) # start with thresholded one\n",
        "\n",
        "        # Where exact is zero, if numerical is also zero, error is 0.\n",
        "        # If numerical is non-zero, relative error is technically infinite or very large.\n",
        "        # The slide sets it to 0, which might imply these points are not of interest for relative error,\n",
        "        # or that the absolute error is what matters there.\n",
        "        # For this specific decay problem N_exact is never exactly 0 unless N0=0 or lambda is infinite.\n",
        "        # However, it can get very small.\n",
        "\n",
        "        # For a simpler implementation mirroring the slide (assuming N_exact won't be exactly zero unless N0 is):\n",
        "        # If N_exact can be truly zero for t > 0 (not in this decay model unless N0=0),\n",
        "        # one might plot absolute error or handle these points specifically.\n",
        "        # The slide code `rel_error[N_exact == 0] = 0` is a practical choice if those points are rare\n",
        "        # or if absolute error is zero there.\n",
        "        # For our decay problem N_exact_error > 0 for N0 > 0.\n",
        "        # So the simple division `abs_diff / np.abs(N_exact_error)` is usually safe IF N0 > 0.\n",
        "        # The only point N_exact_error could be zero is if N0_error is 0.\n",
        "        if N0_error == 0:\n",
        "            relative_error = np.zeros_like(time_points_error) # All errors are zero\n",
        "        else:\n",
        "            relative_error = abs_diff / np.abs(N_exact_error) # Direct division as N_exact won't be 0\n",
        "\n",
        "    # 4. Plot the relative error\n",
        "    plt.figure(figsize=(8, 5))\n",
        "    plt.plot(time_points_error, relative_error, 'b-s', label=f'Relative Error (dt={dt_error})') # 'b-s' for blue, solid line, square markers\n",
        "    plt.xlabel('Time')\n",
        "    plt.ylabel('Relative Error')\n",
        "    plt.title('Relative Error of Explicit Euler for Radioactive Decay')\n",
        "    plt.legend()\n",
        "    plt.grid(True)\n",
        "    # plt.ylim(0, max(0.1, np.max(relative_error[1:]*1.1))) # Optional: adjust y-axis if first point dominates\n",
        "    plt.show()\n",
        "\n",
        "    # print(\"Relative error:\", relative_error)"
      ],
      "metadata": {
        "id": "RCrSm4LtpiZE"
      },
      "execution_count": null,
      "outputs": []
    },
    {
      "cell_type": "markdown",
      "source": [
        "### Numerical Accuracy\n",
        "\n",
        "**What is numerical accuracy?**\n",
        "\n",
        "Accuracy refers to how close the numerical solution is to the exact (analytical) solution. It's a measure of the error of the method.\n",
        "\n",
        "- For the Explicit and Implicit Euler methods, we generally observe that reducing $\\Delta t$ improves the accuracy (the numerical solution gets closer to the analytical solution).\n",
        "- These methods are **first-order accurate**. This means the global error (e.g., error at a fixed time $T$) is typically proportional to $\\Delta t^1$. So, if you halve $\\Delta t$, you expect the error to also halve (approximately).\n",
        "  - $E(T) \\approx C \\cdot \\Delta t^p$, where $p$ is the order of accuracy. For Euler, $p=1$.\n",
        "\n",
        "**Important Considerations:**\n",
        "- Accuracy improves with smaller $\\Delta t$, but this comes at the cost of more computational steps and thus longer run times.\n",
        "- Higher-order methods (like Runge-Kutta methods, which we might see later) can achieve better accuracy for the same $\\Delta t$, or the same accuracy with a larger $\\Delta t$, but they usually involve more calculations per step.\n",
        "- There's a trade-off between accuracy, stability, and computational cost when choosing a numerical method and a time step."
      ],
      "metadata": {
        "id": "vvmpuIu1fltu"
      }
    },
    {
      "cell_type": "markdown",
      "source": [
        "### Numerical Stability\n",
        "\n",
        "**What is numerical stability?**\n",
        "\n",
        "A numerical method is considered **stable** if errors introduced at one stage of the computation (due to round-off, or the approximation inherent in the method) do not grow uncontrollably as the computation proceeds. An unstable method can lead to solutions that diverge wildly from the true solution, even if the method is theoretically accurate for very small step sizes.\n",
        "\n",
        "- In the radioactive decay example, using a large time step with the **Explicit Euler** method caused the solution to become negative or oscillate with increasing amplitude. This indicates **instability** of the explicit method for large $\\Delta t$ for this particular problem.\n",
        "- The **Implicit Euler** method, for this problem, is unconditionally stable, meaning it doesn't exhibit this runaway error growth regardless of the $\\Delta t$ chosen (though accuracy still depends on $\\Delta t$).\n",
        "- Stability often depends on the time step size $\\Delta t$, the specific ODE being solved, and the method used. The product $\\lambda \\Delta t$ is often a key parameter in stability analysis (e.g., the \"Courant number\" or similar dimensionless groups in PDEs).\n",
        "\n",
        "**Key idea:** Even if a method is *consistent* (i.e., it converges to the true solution as $\\Delta t \\to 0$) and *accurate* for small $\\Delta t$, instability can make the numerical solution completely unreliable and useless for practical step sizes."
      ],
      "metadata": {
        "id": "eeUXYpBkfj2G"
      }
    },
    {
      "cell_type": "markdown",
      "source": [
        "### Exercises – Numerical Schemes for ODEs\n",
        "\n",
        "**Exercise 1: Time Step Sensitivity (Implicit Euler)**\n",
        "- Use the Implicit Euler method to solve the radioactive decay equation $dN/dt = -\\lambda N$ with $N_0 = 100$, $\\lambda = 0.1$, over $T_{max}=50$.\n",
        "- Try the following time steps: $\\Delta t = 2.0$, $\\Delta t = 10.0$ (which is $1/\\lambda$), and $\\Delta t = 20.0$.\n",
        "- Plot all three numerical solutions along with the analytical solution on the same graph.\n",
        "- Comment on their behavior, accuracy, and stability.\n",
        "\n",
        "**Exercise 2: Explicit vs Implicit Euler – Accuracy and Stability Comparison**\n",
        "- For the same radioactive decay problem ($N_0 = 100$, $\\lambda = 0.1$, $T_{max}=50$):\n",
        "  - Choose a $\\Delta t$ that is stable for Explicit Euler but still relatively coarse (e.g., $\\Delta t = 5.0$). Solve using both Explicit and Implicit Euler. Plot against the analytical solution.\n",
        "  - Choose a $\\Delta t$ that is unstable for Explicit Euler (e.g., $\\Delta t = 15.0$). Solve using both methods. Plot and compare.\n",
        "- Discuss the differences in accuracy and qualitative behavior.\n",
        "\n",
        "**Exercise 3: Apply to Newton’s Law of Cooling**\n",
        "- The ODE for Newton's Law of Cooling is: $\\frac{dT}{dt} = -k(T - T_a)$\n",
        "  - Initial condition: $T(0) = T_0$.\n",
        "- **(a) Derive the update formulas** for both the Explicit Euler and Implicit Euler schemes for this ODE.\n",
        "  *(Hint: For Implicit Euler, you'll need to solve for $T^{n+1}$ algebraically after substituting the finite differences).*\n",
        "- **(b) Implement both schemes in Python.**\n",
        "  - Choose suitable parameters: e.g., $T_0 = 90^\\circ C$, $T_a = 20^\\circ C$, $k = 0.05 \\text{ min}^{-1}$, $T_{max} = 100 \\text{ min}$.\n",
        "  - Select a $\\Delta t$ (e.g., $\\Delta t = 10 \\text{ min}$) and plot the numerical solutions from both methods along with the analytical solution: $T(t) = T_a + (T_0 - T_a) e^{-kt}$.\n",
        "  - Experiment with different $\\Delta t$ values and observe stability and accuracy."
      ],
      "metadata": {
        "id": "5k46du-4fn3J"
      }
    }
  ]
}